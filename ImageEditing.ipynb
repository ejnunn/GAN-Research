{
  "nbformat": 4,
  "nbformat_minor": 0,
  "metadata": {
    "colab": {
      "name": "ImageEditing.ipynb",
      "provenance": [],
      "toc_visible": true,
      "authorship_tag": "ABX9TyPZAcI24qEPcr5+LxAzc2Co",
      "include_colab_link": true
    },
    "kernelspec": {
      "name": "python3",
      "display_name": "Python 3"
    }
  },
  "cells": [
    {
      "cell_type": "markdown",
      "metadata": {
        "id": "view-in-github",
        "colab_type": "text"
      },
      "source": [
        "<a href=\"https://colab.research.google.com/github/ejnunn/GAN_Research/blob/main/ImageEditing.ipynb\" target=\"_parent\"><img src=\"https://colab.research.google.com/assets/colab-badge.svg\" alt=\"Open In Colab\"/></a>"
      ]
    },
    {
      "cell_type": "markdown",
      "metadata": {
        "id": "3EIsyl_7jtHb"
      },
      "source": [
        "# Prepare Environment"
      ]
    },
    {
      "cell_type": "code",
      "metadata": {
        "colab": {
          "base_uri": "https://localhost:8080/"
        },
        "id": "Ab8JpL_tjsLr",
        "outputId": "43adbf7d-8f9f-4b84-faa0-4cbdc28299b9"
      },
      "source": [
        "from google.colab import drive \n",
        "drive.mount('/content/drive')"
      ],
      "execution_count": 3,
      "outputs": [
        {
          "output_type": "stream",
          "text": [
            "Drive already mounted at /content/drive; to attempt to forcibly remount, call drive.mount(\"/content/drive\", force_remount=True).\n"
          ],
          "name": "stdout"
        }
      ]
    },
    {
      "cell_type": "code",
      "metadata": {
        "id": "E-ADCGngjysU"
      },
      "source": [
        "import matplotlib.pyplot as plt\n",
        "\n",
        "import skimage\n",
        "import skimage.io\n",
        "from skimage.transform import swirl\n",
        "from skimage.util import random_noise\n",
        "from skimage.filters import gaussian\n",
        "from PIL import Image\n",
        "import numpy as np\n",
        "import os\n",
        "import pprint"
      ],
      "execution_count": 4,
      "outputs": []
    },
    {
      "cell_type": "code",
      "metadata": {
        "id": "soiwzXcYj83l"
      },
      "source": [
        "!unzip -q /content/drive/MyDrive/GAN_Research/Datasets/CelebA/img_align_celeba.zip"
      ],
      "execution_count": null,
      "outputs": []
    },
    {
      "cell_type": "code",
      "metadata": {
        "colab": {
          "base_uri": "https://localhost:8080/"
        },
        "id": "oU5OlwjXcwF-",
        "outputId": "ed803f06-2f11-46fa-f314-cd4f9ad965af"
      },
      "source": [
        "images = os.listdir('img_align_celeba/')\n",
        "images.index('000007.jpg')"
      ],
      "execution_count": 7,
      "outputs": [
        {
          "output_type": "execute_result",
          "data": {
            "text/plain": [
              "30081"
            ]
          },
          "metadata": {
            "tags": []
          },
          "execution_count": 7
        }
      ]
    },
    {
      "cell_type": "markdown",
      "metadata": {
        "id": "0Z7mvQRp_Ynb"
      },
      "source": [
        "# Edit images with differing distortion methods"
      ]
    },
    {
      "cell_type": "code",
      "metadata": {
        "id": "D5GMBVXCwBv0"
      },
      "source": [
        "def image_distortion(image, mode, save_path):\n",
        "  new_image = image\n",
        "  skimage.img_as_ubyte(new_image)\n",
        "  \n",
        "  skimage.io.imsave(save_path + '/' + mode + '0.jpg', new_image)\n",
        "\n",
        "  for i in range(1, 4):\n",
        "    if mode == 'noise':\n",
        "      new_image = random_noise(new_image, mode='gaussian')\n",
        "    elif mode == 'warp':\n",
        "      new_image = swirl(image, rotation=0, strength=2*i, radius=150)\n",
        "    elif mode == 'sp':\n",
        "      new_image = random_noise(new_image, mode='s&p')\n",
        "    elif mode == 'blur':\n",
        "      new_image = gaussian(new_image, sigma=(1, 1), truncate=4, multichannel=True)\n",
        "\n",
        "    skimage.io.imsave(save_path + '/' + mode + str(i) + '.jpg', new_image)\n",
        "\n",
        "  return"
      ],
      "execution_count": 8,
      "outputs": []
    },
    {
      "cell_type": "code",
      "metadata": {
        "id": "fl_TMo5v_Aq5"
      },
      "source": [
        "### SELECT IMAGES TO EDIT ###\n",
        "\n",
        "save_basepath = '/content/drive/MyDrive/GAN_Research/Datasets/WarpedFace/faces/'\n",
        "original_basepath = 'img_align_celeba/'\n",
        "all_images = os.listdir(os.path.join(original_basepath))\n",
        "n_images = 100\n",
        "image_names = sorted(all_images[30081:30081+n_images])\n",
        "\n",
        "\n",
        "distortion_types = ['noise', 'warp', 'sp', 'blur']\n",
        "\n",
        "if not os.path.isdir(save_basepath):\n",
        "  os.mkdir(save_basepath)\n",
        "\n",
        "images = [skimage.io.imread(original_basepath + x) for x in image_names]\n",
        "for i in range(len(images)):\n",
        "  for mode in distortion_types:\n",
        "    if not os.path.isdir(os.path.join(save_basepath, str(i))):\n",
        "      os.mkdir(os.path.join(save_basepath, str(i)))\n",
        "\n",
        "    save_path = os.path.join(save_basepath, str(i), mode)\n",
        "\n",
        "    if not os.path.isdir(save_path):\n",
        "      os.mkdir(save_path)\n",
        "\n",
        "    print(i, ':', image_names[i])\n",
        "    print(save_path)\n",
        "\n",
        "    image_distortion(images[i], mode, save_path)"
      ],
      "execution_count": null,
      "outputs": []
    },
    {
      "cell_type": "code",
      "metadata": {
        "id": "7j1CPp17i278"
      },
      "source": [
        ""
      ],
      "execution_count": null,
      "outputs": []
    }
  ]
}