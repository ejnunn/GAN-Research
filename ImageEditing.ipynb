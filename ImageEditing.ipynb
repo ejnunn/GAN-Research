{
  "nbformat": 4,
  "nbformat_minor": 0,
  "metadata": {
    "colab": {
      "name": "ImageEditing.ipynb",
      "provenance": [],
      "authorship_tag": "ABX9TyPJhbJinHmB9XHJDmzrMwqk",
      "include_colab_link": true
    },
    "kernelspec": {
      "name": "python3",
      "display_name": "Python 3"
    }
  },
  "cells": [
    {
      "cell_type": "markdown",
      "metadata": {
        "id": "view-in-github",
        "colab_type": "text"
      },
      "source": [
        "<a href=\"https://colab.research.google.com/github/ejnunn/GAN_Research/blob/main/ImageEditing.ipynb\" target=\"_parent\"><img src=\"https://colab.research.google.com/assets/colab-badge.svg\" alt=\"Open In Colab\"/></a>"
      ]
    },
    {
      "cell_type": "markdown",
      "metadata": {
        "id": "3EIsyl_7jtHb"
      },
      "source": [
        "# Prepare Environment"
      ]
    },
    {
      "cell_type": "code",
      "metadata": {
        "colab": {
          "base_uri": "https://localhost:8080/"
        },
        "id": "Ab8JpL_tjsLr",
        "outputId": "fe16e4ac-8ffe-43fa-d6ee-b49e4298b574"
      },
      "source": [
        "from google.colab import drive \n",
        "drive.mount('/content/drive')"
      ],
      "execution_count": 1,
      "outputs": [
        {
          "output_type": "stream",
          "text": [
            "Mounted at /content/drive\n"
          ],
          "name": "stdout"
        }
      ]
    },
    {
      "cell_type": "code",
      "metadata": {
        "id": "E-ADCGngjysU"
      },
      "source": [
        "import matplotlib.pyplot as plt\n",
        "\n",
        "import skimage\n",
        "import skimage.io\n",
        "from skimage.transform import swirl\n",
        "from skimage.util import random_noise\n",
        "from skimage.filters import gaussian\n",
        "from PIL import Image\n",
        "import numpy as np\n",
        "import os"
      ],
      "execution_count": 67,
      "outputs": []
    },
    {
      "cell_type": "code",
      "metadata": {
        "id": "soiwzXcYj83l"
      },
      "source": [
        "!unzip -q /content/drive/MyDrive/GAN_Research/Datasets/CelebA/img_align_celeba.zip"
      ],
      "execution_count": 9,
      "outputs": []
    },
    {
      "cell_type": "markdown",
      "metadata": {
        "id": "0Z7mvQRp_Ynb"
      },
      "source": [
        "# Edit images with differing distortion methods"
      ]
    },
    {
      "cell_type": "code",
      "metadata": {
        "id": "D5GMBVXCwBv0"
      },
      "source": [
        "def image_distortion(image, save_path, mode):\n",
        "  new_image = image\n",
        "\n",
        "  skimage.io.imsave(save_path + '/' + mode + '0.jpg', new_image)\n",
        "\n",
        "  for i in range(1, 4):\n",
        "    if mode == 'noise':\n",
        "      new_image = random_noise(new_image, mode='gaussian')\n",
        "    elif mode == 'warp':\n",
        "      new_image = swirl(image, rotation=0, strength=2*i, radius=150)\n",
        "    elif mode == 'sp':\n",
        "      new_image = random_noise(new_image, mode='s&p')\n",
        "    elif mode == 'blur':\n",
        "      new_image = gaussian(new_image, sigma=(1, 1), truncate=4, multichannel=True)\n",
        "\n",
        "    skimage.io.imsave(save_path + '/' + mode + str(i) + '.jpg', new_image)\n",
        "    \n",
        "  return"
      ],
      "execution_count": 60,
      "outputs": []
    },
    {
      "cell_type": "code",
      "metadata": {
        "colab": {
          "base_uri": "https://localhost:8080/"
        },
        "id": "fl_TMo5v_Aq5",
        "outputId": "4de5219c-2eec-4a7b-ce2c-4ab5759c2113"
      },
      "source": [
        "save_basepath = '/content/drive/MyDrive/GAN_Research/Datasets/WarpedFace/faces/'\n",
        "original_basepath = 'img_align_celeba/'\n",
        "image_names = ['000007', '000019']\n",
        "distortion_types = ['noise', 'warp', 'sp', 'blur']\n",
        "\n",
        "if not os.path.isdir(save_basepath):\n",
        "  os.mkdir(save_basepath)\n",
        "\n",
        "images = [skimage.io.imread(original_basepath + x + '.jpg') for x in image_names]\n",
        "for i in range(len(images)):\n",
        "  for mode in distortion_types:\n",
        "    if not os.path.isdir(os.path.join(save_basepath, str(i))):\n",
        "      os.mkdir(os.path.join(save_basepath, str(i)))\n",
        "    save_path = os.path.join(save_basepath, str(i), mode)\n",
        "    # save_path = save_basepath + '/{}'.format(i) + mode + '/{}'.format(i)\n",
        "    if not os.path.isdir(save_path):\n",
        "      os.mkdir(save_path)\n",
        "    image_distortion(images[i], save_path, mode)"
      ],
      "execution_count": 74,
      "outputs": [
        {
          "output_type": "stream",
          "text": [
            "WARNING:root:Lossy conversion from float64 to uint8. Range [0, 1]. Convert image to uint8 prior to saving to suppress this warning.\n",
            "WARNING:root:Lossy conversion from float64 to uint8. Range [0, 1]. Convert image to uint8 prior to saving to suppress this warning.\n",
            "WARNING:root:Lossy conversion from float64 to uint8. Range [0, 1]. Convert image to uint8 prior to saving to suppress this warning.\n",
            "WARNING:root:Lossy conversion from float64 to uint8. Range [0, 1]. Convert image to uint8 prior to saving to suppress this warning.\n",
            "WARNING:root:Lossy conversion from float64 to uint8. Range [0, 1]. Convert image to uint8 prior to saving to suppress this warning.\n",
            "WARNING:root:Lossy conversion from float64 to uint8. Range [0, 1]. Convert image to uint8 prior to saving to suppress this warning.\n",
            "WARNING:root:Lossy conversion from float64 to uint8. Range [0, 1]. Convert image to uint8 prior to saving to suppress this warning.\n",
            "WARNING:root:Lossy conversion from float64 to uint8. Range [0, 1]. Convert image to uint8 prior to saving to suppress this warning.\n",
            "WARNING:root:Lossy conversion from float64 to uint8. Range [0, 1]. Convert image to uint8 prior to saving to suppress this warning.\n",
            "WARNING:root:Lossy conversion from float64 to uint8. Range [0, 1]. Convert image to uint8 prior to saving to suppress this warning.\n",
            "WARNING:root:Lossy conversion from float64 to uint8. Range [0, 1]. Convert image to uint8 prior to saving to suppress this warning.\n",
            "WARNING:root:Lossy conversion from float64 to uint8. Range [0, 1]. Convert image to uint8 prior to saving to suppress this warning.\n",
            "WARNING:root:Lossy conversion from float64 to uint8. Range [0, 1]. Convert image to uint8 prior to saving to suppress this warning.\n",
            "WARNING:root:Lossy conversion from float64 to uint8. Range [0, 1]. Convert image to uint8 prior to saving to suppress this warning.\n",
            "WARNING:root:Lossy conversion from float64 to uint8. Range [0, 1]. Convert image to uint8 prior to saving to suppress this warning.\n",
            "WARNING:root:Lossy conversion from float64 to uint8. Range [0, 1]. Convert image to uint8 prior to saving to suppress this warning.\n",
            "WARNING:root:Lossy conversion from float64 to uint8. Range [0, 1]. Convert image to uint8 prior to saving to suppress this warning.\n",
            "WARNING:root:Lossy conversion from float64 to uint8. Range [0, 1]. Convert image to uint8 prior to saving to suppress this warning.\n",
            "WARNING:root:Lossy conversion from float64 to uint8. Range [0, 1]. Convert image to uint8 prior to saving to suppress this warning.\n",
            "WARNING:root:Lossy conversion from float64 to uint8. Range [0, 1]. Convert image to uint8 prior to saving to suppress this warning.\n",
            "WARNING:root:Lossy conversion from float64 to uint8. Range [0, 1]. Convert image to uint8 prior to saving to suppress this warning.\n",
            "WARNING:root:Lossy conversion from float64 to uint8. Range [0, 1]. Convert image to uint8 prior to saving to suppress this warning.\n",
            "WARNING:root:Lossy conversion from float64 to uint8. Range [0, 1]. Convert image to uint8 prior to saving to suppress this warning.\n",
            "WARNING:root:Lossy conversion from float64 to uint8. Range [0, 1]. Convert image to uint8 prior to saving to suppress this warning.\n"
          ],
          "name": "stderr"
        }
      ]
    },
    {
      "cell_type": "code",
      "metadata": {
        "id": "7VkNri7SFpo-"
      },
      "source": [
        ""
      ],
      "execution_count": null,
      "outputs": []
    }
  ]
}