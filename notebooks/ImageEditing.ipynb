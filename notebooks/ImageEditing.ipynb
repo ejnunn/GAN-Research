{
  "nbformat": 4,
  "nbformat_minor": 0,
  "metadata": {
    "colab": {
      "name": "ImageEditing.ipynb",
      "provenance": [],
      "authorship_tag": "ABX9TyNN5E7750mJtzfHQcITrvVt",
      "include_colab_link": true
    },
    "kernelspec": {
      "name": "python3",
      "display_name": "Python 3"
    }
  },
  "cells": [
    {
      "cell_type": "markdown",
      "metadata": {
        "id": "view-in-github",
        "colab_type": "text"
      },
      "source": [
        "<a href=\"https://colab.research.google.com/github/ejnunn/GAN_Research/blob/main/notebooks/ImageEditing.ipynb\" target=\"_parent\"><img src=\"https://colab.research.google.com/assets/colab-badge.svg\" alt=\"Open In Colab\"/></a>"
      ]
    },
    {
      "cell_type": "markdown",
      "metadata": {
        "id": "3EIsyl_7jtHb"
      },
      "source": [
        "# Prepare Environment"
      ]
    },
    {
      "cell_type": "code",
      "metadata": {
        "colab": {
          "base_uri": "https://localhost:8080/"
        },
        "id": "Ab8JpL_tjsLr",
        "outputId": "ab702c36-843f-4545-ed23-afd5b4607e35"
      },
      "source": [
        "from google.colab import drive \n",
        "drive.mount('/content/drive')"
      ],
      "execution_count": 1,
      "outputs": [
        {
          "output_type": "stream",
          "text": [
            "Mounted at /content/drive\n"
          ],
          "name": "stdout"
        }
      ]
    },
    {
      "cell_type": "code",
      "metadata": {
        "id": "E-ADCGngjysU"
      },
      "source": [
        "import matplotlib.pyplot as plt\n",
        "\n",
        "import skimage\n",
        "from skimage.transform import swirl\n",
        "from skimage.util import random_noise\n",
        "from skimage.filters import gaussian\n",
        "from PIL import Image\n",
        "import numpy as np"
      ],
      "execution_count": 66,
      "outputs": []
    },
    {
      "cell_type": "code",
      "metadata": {
        "id": "soiwzXcYj83l"
      },
      "source": [
        "# !unzip -q /content/drive/MyDrive/GAN_Research/Datasets/CelebA/img_align_celeba.zip"
      ],
      "execution_count": 35,
      "outputs": []
    },
    {
      "cell_type": "code",
      "metadata": {
        "id": "rTjXTv1GmxXb"
      },
      "source": [
        "original_path = 'img_align_celeba/000007.jpg'\n",
        "\n",
        "image = skimage.io.imread(original_path)"
      ],
      "execution_count": 58,
      "outputs": []
    },
    {
      "cell_type": "code",
      "metadata": {
        "colab": {
          "base_uri": "https://localhost:8080/"
        },
        "id": "GVNyZO7klHJj",
        "outputId": "2e486112-5f46-4d6c-e2af-8f04a0abc19a"
      },
      "source": [
        "# WARP IMAGE x4\n",
        "warped_path = '/content/drive/MyDrive/GAN_Research/Datasets/WarpedFace/warp/'\n",
        "\n",
        "for i in range(4):\n",
        "  swirled = swirl(image, rotation=0, strength=2*i, radius=150)\n",
        "  skimage.io.imsave(warped_path + 'warp' + str(i) + '.jpg', swirled)"
      ],
      "execution_count": 60,
      "outputs": [
        {
          "output_type": "stream",
          "text": [
            "WARNING:root:Lossy conversion from float64 to uint8. Range [0, 1]. Convert image to uint8 prior to saving to suppress this warning.\n",
            "WARNING:root:Lossy conversion from float64 to uint8. Range [0, 1]. Convert image to uint8 prior to saving to suppress this warning.\n",
            "WARNING:root:Lossy conversion from float64 to uint8. Range [0, 1]. Convert image to uint8 prior to saving to suppress this warning.\n",
            "WARNING:root:Lossy conversion from float64 to uint8. Range [0, 1]. Convert image to uint8 prior to saving to suppress this warning.\n"
          ],
          "name": "stderr"
        }
      ]
    },
    {
      "cell_type": "code",
      "metadata": {
        "colab": {
          "base_uri": "https://localhost:8080/"
        },
        "id": "2yXRwOUHmEsK",
        "outputId": "5423cd94-884a-4d66-eb00-30ca49ad532b"
      },
      "source": [
        "# GAUSSIAN NOISE IMAGE x4\n",
        "noise_path = '/content/drive/MyDrive/GAN_Research/Datasets/WarpedFace/noise/'\n",
        "mode = 'gaussian'\n",
        "new_image = image\n",
        "\n",
        "skimage.io.imsave(noise_path + mode + str(0) + '.jpg', new_image)\n",
        "for i in range(1,4):\n",
        "  new_image = random_noise(new_image, mode=mode)\n",
        "  skimage.io.imsave(noise_path + mode + str(i) + '.jpg', new_image)"
      ],
      "execution_count": 62,
      "outputs": [
        {
          "output_type": "stream",
          "text": [
            "WARNING:root:Lossy conversion from float64 to uint8. Range [0, 1]. Convert image to uint8 prior to saving to suppress this warning.\n",
            "WARNING:root:Lossy conversion from float64 to uint8. Range [0, 1]. Convert image to uint8 prior to saving to suppress this warning.\n",
            "WARNING:root:Lossy conversion from float64 to uint8. Range [0, 1]. Convert image to uint8 prior to saving to suppress this warning.\n"
          ],
          "name": "stderr"
        }
      ]
    },
    {
      "cell_type": "code",
      "metadata": {
        "colab": {
          "base_uri": "https://localhost:8080/"
        },
        "id": "-sBk8jE5rXT-",
        "outputId": "d44e5488-dc99-4844-9d65-209a098a0558"
      },
      "source": [
        "# SALT & PEPPER NOISE IMAGE x4\n",
        "sp_path = '/content/drive/MyDrive/GAN_Research/Datasets/WarpedFace/s&p/'\n",
        "mode = 's&p'\n",
        "new_image = image\n",
        "\n",
        "skimage.io.imsave(sp_path + mode + str(0) + '.jpg', new_image)\n",
        "for i in range(1,4):\n",
        "  new_image = random_noise(new_image, mode=mode)\n",
        "  skimage.io.imsave(sp_path + mode + str(i) + '.jpg', new_image)"
      ],
      "execution_count": 64,
      "outputs": [
        {
          "output_type": "stream",
          "text": [
            "WARNING:root:Lossy conversion from float64 to uint8. Range [0, 1]. Convert image to uint8 prior to saving to suppress this warning.\n",
            "WARNING:root:Lossy conversion from float64 to uint8. Range [0, 1]. Convert image to uint8 prior to saving to suppress this warning.\n",
            "WARNING:root:Lossy conversion from float64 to uint8. Range [0, 1]. Convert image to uint8 prior to saving to suppress this warning.\n"
          ],
          "name": "stderr"
        }
      ]
    },
    {
      "cell_type": "code",
      "metadata": {
        "colab": {
          "base_uri": "https://localhost:8080/"
        },
        "id": "I6kI1mQVvCrU",
        "outputId": "bed645d7-5d5f-40df-bf90-b43baf977e7f"
      },
      "source": [
        "# SALT & PEPPER NOISE IMAGE x4\n",
        "blur_path = '/content/drive/MyDrive/GAN_Research/Datasets/WarpedFace/blur/'\n",
        "mode = 'blur'\n",
        "new_image = image\n",
        "\n",
        "skimage.io.imsave(blur_path + mode + str(0) + '.jpg', new_image)\n",
        "for i in range(1,4):\n",
        "  new_image = gaussian(new_image, sigma=(1, 1), truncate=4, multichannel=True)\n",
        "  skimage.io.imsave(blur_path + mode + str(i) + '.jpg', new_image)"
      ],
      "execution_count": 68,
      "outputs": [
        {
          "output_type": "stream",
          "text": [
            "WARNING:root:Lossy conversion from float64 to uint8. Range [0, 1]. Convert image to uint8 prior to saving to suppress this warning.\n",
            "WARNING:root:Lossy conversion from float64 to uint8. Range [0, 1]. Convert image to uint8 prior to saving to suppress this warning.\n",
            "WARNING:root:Lossy conversion from float64 to uint8. Range [0, 1]. Convert image to uint8 prior to saving to suppress this warning.\n"
          ],
          "name": "stderr"
        }
      ]
    },
    {
      "cell_type": "code",
      "metadata": {
        "id": "D5GMBVXCwBv0"
      },
      "source": [
        ""
      ],
      "execution_count": null,
      "outputs": []
    }
  ]
}