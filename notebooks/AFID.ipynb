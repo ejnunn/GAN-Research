{
  "nbformat": 4,
  "nbformat_minor": 0,
  "metadata": {
    "colab": {
      "name": "AFID.ipynb",
      "provenance": [],
      "collapsed_sections": [
        "wOi0LqIoGl80"
      ],
      "toc_visible": true,
      "machine_shape": "hm",
      "authorship_tag": "ABX9TyPsPc0zT9/Unxl8ZQOPAt6A",
      "include_colab_link": true
    },
    "kernelspec": {
      "name": "python3",
      "display_name": "Python 3"
    },
    "accelerator": "GPU",
    "widgets": {
      "application/vnd.jupyter.widget-state+json": {
        "a2c9806fe64349a4a7becee918baf92f": {
          "model_module": "@jupyter-widgets/controls",
          "model_name": "HBoxModel",
          "state": {
            "_view_name": "HBoxView",
            "_dom_classes": [],
            "_model_name": "HBoxModel",
            "_view_module": "@jupyter-widgets/controls",
            "_model_module_version": "1.5.0",
            "_view_count": null,
            "_view_module_version": "1.5.0",
            "box_style": "",
            "layout": "IPY_MODEL_d9a2d8abbe944d53bf6350b8e569977b",
            "_model_module": "@jupyter-widgets/controls",
            "children": [
              "IPY_MODEL_b93205683346499e8457e28d9fc750b1",
              "IPY_MODEL_b64ae8223b124f8881ac9a75214f74f3"
            ]
          }
        },
        "d9a2d8abbe944d53bf6350b8e569977b": {
          "model_module": "@jupyter-widgets/base",
          "model_name": "LayoutModel",
          "state": {
            "_view_name": "LayoutView",
            "grid_template_rows": null,
            "right": null,
            "justify_content": null,
            "_view_module": "@jupyter-widgets/base",
            "overflow": null,
            "_model_module_version": "1.2.0",
            "_view_count": null,
            "flex_flow": null,
            "width": null,
            "min_width": null,
            "border": null,
            "align_items": null,
            "bottom": null,
            "_model_module": "@jupyter-widgets/base",
            "top": null,
            "grid_column": null,
            "overflow_y": null,
            "overflow_x": null,
            "grid_auto_flow": null,
            "grid_area": null,
            "grid_template_columns": null,
            "flex": null,
            "_model_name": "LayoutModel",
            "justify_items": null,
            "grid_row": null,
            "max_height": null,
            "align_content": null,
            "visibility": null,
            "align_self": null,
            "height": null,
            "min_height": null,
            "padding": null,
            "grid_auto_rows": null,
            "grid_gap": null,
            "max_width": null,
            "order": null,
            "_view_module_version": "1.2.0",
            "grid_template_areas": null,
            "object_position": null,
            "object_fit": null,
            "grid_auto_columns": null,
            "margin": null,
            "display": null,
            "left": null
          }
        },
        "b93205683346499e8457e28d9fc750b1": {
          "model_module": "@jupyter-widgets/controls",
          "model_name": "FloatProgressModel",
          "state": {
            "_view_name": "ProgressView",
            "style": "IPY_MODEL_e0ce14c98ba44c67b4b8f88a96065f1a",
            "_dom_classes": [],
            "description": "100%",
            "_model_name": "FloatProgressModel",
            "bar_style": "success",
            "max": 108857766,
            "_view_module": "@jupyter-widgets/controls",
            "_model_module_version": "1.5.0",
            "value": 108857766,
            "_view_count": null,
            "_view_module_version": "1.5.0",
            "orientation": "horizontal",
            "min": 0,
            "description_tooltip": null,
            "_model_module": "@jupyter-widgets/controls",
            "layout": "IPY_MODEL_8ad76e3f336148e5acfc4cf7f28bc183"
          }
        },
        "b64ae8223b124f8881ac9a75214f74f3": {
          "model_module": "@jupyter-widgets/controls",
          "model_name": "HTMLModel",
          "state": {
            "_view_name": "HTMLView",
            "style": "IPY_MODEL_bbf443eac8c444999a15ff1577f63278",
            "_dom_classes": [],
            "description": "",
            "_model_name": "HTMLModel",
            "placeholder": "​",
            "_view_module": "@jupyter-widgets/controls",
            "_model_module_version": "1.5.0",
            "value": " 104M/104M [00:01&lt;00:00, 97.6MB/s]",
            "_view_count": null,
            "_view_module_version": "1.5.0",
            "description_tooltip": null,
            "_model_module": "@jupyter-widgets/controls",
            "layout": "IPY_MODEL_cd89e7d1b8ed4cc7996272fef1f0d349"
          }
        },
        "e0ce14c98ba44c67b4b8f88a96065f1a": {
          "model_module": "@jupyter-widgets/controls",
          "model_name": "ProgressStyleModel",
          "state": {
            "_view_name": "StyleView",
            "_model_name": "ProgressStyleModel",
            "description_width": "initial",
            "_view_module": "@jupyter-widgets/base",
            "_model_module_version": "1.5.0",
            "_view_count": null,
            "_view_module_version": "1.2.0",
            "bar_color": null,
            "_model_module": "@jupyter-widgets/controls"
          }
        },
        "8ad76e3f336148e5acfc4cf7f28bc183": {
          "model_module": "@jupyter-widgets/base",
          "model_name": "LayoutModel",
          "state": {
            "_view_name": "LayoutView",
            "grid_template_rows": null,
            "right": null,
            "justify_content": null,
            "_view_module": "@jupyter-widgets/base",
            "overflow": null,
            "_model_module_version": "1.2.0",
            "_view_count": null,
            "flex_flow": null,
            "width": null,
            "min_width": null,
            "border": null,
            "align_items": null,
            "bottom": null,
            "_model_module": "@jupyter-widgets/base",
            "top": null,
            "grid_column": null,
            "overflow_y": null,
            "overflow_x": null,
            "grid_auto_flow": null,
            "grid_area": null,
            "grid_template_columns": null,
            "flex": null,
            "_model_name": "LayoutModel",
            "justify_items": null,
            "grid_row": null,
            "max_height": null,
            "align_content": null,
            "visibility": null,
            "align_self": null,
            "height": null,
            "min_height": null,
            "padding": null,
            "grid_auto_rows": null,
            "grid_gap": null,
            "max_width": null,
            "order": null,
            "_view_module_version": "1.2.0",
            "grid_template_areas": null,
            "object_position": null,
            "object_fit": null,
            "grid_auto_columns": null,
            "margin": null,
            "display": null,
            "left": null
          }
        },
        "bbf443eac8c444999a15ff1577f63278": {
          "model_module": "@jupyter-widgets/controls",
          "model_name": "DescriptionStyleModel",
          "state": {
            "_view_name": "StyleView",
            "_model_name": "DescriptionStyleModel",
            "description_width": "",
            "_view_module": "@jupyter-widgets/base",
            "_model_module_version": "1.5.0",
            "_view_count": null,
            "_view_module_version": "1.2.0",
            "_model_module": "@jupyter-widgets/controls"
          }
        },
        "cd89e7d1b8ed4cc7996272fef1f0d349": {
          "model_module": "@jupyter-widgets/base",
          "model_name": "LayoutModel",
          "state": {
            "_view_name": "LayoutView",
            "grid_template_rows": null,
            "right": null,
            "justify_content": null,
            "_view_module": "@jupyter-widgets/base",
            "overflow": null,
            "_model_module_version": "1.2.0",
            "_view_count": null,
            "flex_flow": null,
            "width": null,
            "min_width": null,
            "border": null,
            "align_items": null,
            "bottom": null,
            "_model_module": "@jupyter-widgets/base",
            "top": null,
            "grid_column": null,
            "overflow_y": null,
            "overflow_x": null,
            "grid_auto_flow": null,
            "grid_area": null,
            "grid_template_columns": null,
            "flex": null,
            "_model_name": "LayoutModel",
            "justify_items": null,
            "grid_row": null,
            "max_height": null,
            "align_content": null,
            "visibility": null,
            "align_self": null,
            "height": null,
            "min_height": null,
            "padding": null,
            "grid_auto_rows": null,
            "grid_gap": null,
            "max_width": null,
            "order": null,
            "_view_module_version": "1.2.0",
            "grid_template_areas": null,
            "object_position": null,
            "object_fit": null,
            "grid_auto_columns": null,
            "margin": null,
            "display": null,
            "left": null
          }
        }
      }
    }
  },
  "cells": [
    {
      "cell_type": "markdown",
      "metadata": {
        "id": "view-in-github",
        "colab_type": "text"
      },
      "source": [
        "<a href=\"https://colab.research.google.com/github/ejnunn/GAN_Research/blob/main/notebooks/AFID.ipynb\" target=\"_parent\"><img src=\"https://colab.research.google.com/assets/colab-badge.svg\" alt=\"Open In Colab\"/></a>"
      ]
    },
    {
      "cell_type": "markdown",
      "metadata": {
        "id": "HcEeV8oX3Gey"
      },
      "source": [
        "# Prepare Environment"
      ]
    },
    {
      "cell_type": "code",
      "metadata": {
        "colab": {
          "base_uri": "https://localhost:8080/"
        },
        "id": "CKRH6rlt3XRX",
        "outputId": "2155b282-c120-45d7-ab6a-67c6f6a11c83"
      },
      "source": [
        "from google.colab import drive \n",
        "drive.mount('/content/drive')"
      ],
      "execution_count": 1,
      "outputs": [
        {
          "output_type": "stream",
          "text": [
            "Mounted at /content/drive\n"
          ],
          "name": "stdout"
        }
      ]
    },
    {
      "cell_type": "code",
      "metadata": {
        "colab": {
          "base_uri": "https://localhost:8080/"
        },
        "id": "6rdbbNg67b0m",
        "outputId": "00a7618c-2f24-418d-81d3-35f81030e3cc"
      },
      "source": [
        "# !rm -r GAN_Research\n",
        "!git clone --quiet https://github.com/ejnunn/GAN_Research.git\n",
        "!pip install torchextractor"
      ],
      "execution_count": 2,
      "outputs": [
        {
          "output_type": "stream",
          "text": [
            "Collecting torchextractor\n",
            "  Downloading https://files.pythonhosted.org/packages/cc/94/f14591882d0459a626d6aa8ed3699b08e6b79192c26cae87cbd6081cb835/torchextractor-0.3.0-py3-none-any.whl\n",
            "Requirement already satisfied: torch>=1.4.0 in /usr/local/lib/python3.7/dist-packages (from torchextractor) (1.8.1+cu101)\n",
            "Requirement already satisfied: numpy in /usr/local/lib/python3.7/dist-packages (from torchextractor) (1.19.5)\n",
            "Requirement already satisfied: typing-extensions in /usr/local/lib/python3.7/dist-packages (from torch>=1.4.0->torchextractor) (3.7.4.3)\n",
            "Installing collected packages: torchextractor\n",
            "Successfully installed torchextractor-0.3.0\n"
          ],
          "name": "stdout"
        }
      ]
    },
    {
      "cell_type": "code",
      "metadata": {
        "id": "xpHEnt2x7gV0"
      },
      "source": [
        "import torch\n",
        "import torchvision\n",
        "import torchextractor as tx\n",
        "import multiprocessing\n",
        "import numpy as np\n",
        "import cv2\n",
        "from scipy import linalg\n",
        "import os\n",
        "import glob\n",
        "from PIL import Image\n",
        "import matplotlib.pyplot as plt\n",
        "import tqdm"
      ],
      "execution_count": 3,
      "outputs": []
    },
    {
      "cell_type": "markdown",
      "metadata": {
        "id": "wOi0LqIoGl80"
      },
      "source": [
        "# FID Functions"
      ]
    },
    {
      "cell_type": "code",
      "metadata": {
        "id": "jPGKb-EbHEOV"
      },
      "source": [
        "def get_activations(images, batch_size):\n",
        "    \"\"\"\n",
        "    Calculates activations for last pool layer for all iamges\n",
        "    --\n",
        "        Images: torch.array shape: (N, 3, 299, 299), dtype: torch.float32\n",
        "        batch size: batch size used for inception network\n",
        "    --\n",
        "    Returns: np array shape: (N, 2048), dtype: np.float32\n",
        "    \"\"\"\n",
        "    assert images.shape[1:] == (3, 299, 299), \"Expected input shape to be: (N,3,299,299)\" +\\\n",
        "                                              \", but got {}\".format(images.shape)\n",
        "\n",
        "    num_images = images.shape[0]\n",
        "    original_model = torchvision.models.inception_v3(pretrained=True)\n",
        "    fid_layers = ['maxpool1', 'maxpool2', 'avgpool']\n",
        "\n",
        "    assert all(x in tx.list_module_names(original_model) for x in fid_layers), \"Inception_v3 model does not contain necessary layers for FID calculations\"\n",
        "    \n",
        "    inception_network = tx.Extractor(original_model, fid_layers)\n",
        "    inception_network = to_cuda(inception_network)\n",
        "    inception_network.eval()\n",
        "    n_batches = int(np.ceil(num_images  / batch_size))\n",
        "    inception_activations = np.zeros((num_images, 2048), dtype=np.float32)\n",
        "    for batch_idx in range(n_batches):\n",
        "        start_idx = batch_size * batch_idx\n",
        "        end_idx = batch_size * (batch_idx + 1)\n",
        "\n",
        "        ims = images[start_idx:end_idx]\n",
        "        ims = to_cuda(ims)\n",
        "        model_output, features = inception_network(ims)\n",
        "        act1, act2, act3 = features.values()\n",
        "\n",
        "        act1 = act1.detach().cpu().numpy().flatten()\n",
        "        act1 = np.expand_dims(act1, axis=0)\n",
        "        act2 = act2.detach().cpu().numpy().flatten()\n",
        "        act2 = np.expand_dims(act2, axis=0)\n",
        "        act3 = act3.detach().cpu().numpy().squeeze()\n",
        "        act3 = np.expand_dims(act3, axis=0)\n",
        "        \n",
        "        assert act1.shape == (ims.shape[0], 341056), \"Expexted output shape to be: {}, but was: {}\".format((ims.shape[0], 341056), act1.shape)\n",
        "        assert act2.shape == (ims.shape[0], 235200), \"Expexted output shape to be: {}, but was: {}\".format((ims.shape[0], 235200), act2.shape)\n",
        "        assert act3.shape == (ims.shape[0], 2048), \"Expexted output shape to be: {}, but was: {}\".format((ims.shape[0], 2048), act3.shape)\n",
        "        \n",
        "    return act1, act2, act3"
      ],
      "execution_count": 4,
      "outputs": []
    },
    {
      "cell_type": "code",
      "metadata": {
        "id": "34-83NzMGkUX"
      },
      "source": [
        "def calculate_activation_statistics(images, batch_size):\n",
        "    \"\"\"Calculates the statistics used by FID\n",
        "    Args:\n",
        "        images: torch.tensor, shape: (N, 3, H, W), dtype: torch.float32 in range 0 - 1\n",
        "        batch_size: batch size to use to calculate inception scores\n",
        "    Returns:\n",
        "        mu:     mean over all activations from the last pool layer of the inception model\n",
        "        sigma:  covariance matrix over all activations from the last pool layer \n",
        "                of the inception model.\n",
        "    \"\"\"\n",
        "    act1, act2, act3 = get_activations(images, batch_size)\n",
        "    \n",
        "    mu1 = np.mean(act1, axis=0)\n",
        "    mu2 = np.mean(act2, axis=0)\n",
        "    mu3 = np.mean(act3, axis=0)\n",
        "\n",
        "    sigma1 = np.cov(act1, rowvar=False)\n",
        "    sigma2 = np.cov(act2, rowvar=False)\n",
        "    sigma3 = np.cov(act3, rowvar=False)\n",
        "    return mu1, mu2, mu3, sigma1, sigma2, sigma3"
      ],
      "execution_count": 5,
      "outputs": []
    },
    {
      "cell_type": "code",
      "metadata": {
        "id": "F1gSAHNXAuv0"
      },
      "source": [
        "# Modified from: https://github.com/bioinf-jku/TTUR/blob/master/fid.py\n",
        "def calculate_frechet_distance(mu1, sigma1, mu2, sigma2, eps=1e-6):\n",
        "    \"\"\"Numpy implementation of the Frechet Distance.\n",
        "    The Frechet distance between two multivariate Gaussians X_1 ~ N(mu_1, C_1)\n",
        "    and X_2 ~ N(mu_2, C_2) is\n",
        "            d^2 = ||mu_1 - mu_2||^2 + Tr(C_1 + C_2 - 2*sqrt(C_1*C_2)).\n",
        "            \n",
        "    Stable version by Dougal J. Sutherland.\n",
        "    Params:\n",
        "    -- mu1 : Numpy array containing the activations of the pool_3 layer of the\n",
        "             inception net ( like returned by the function 'get_predictions')\n",
        "             for generated samples.\n",
        "    -- mu2   : The sample mean over activations of the pool_3 layer, precalcualted\n",
        "               on an representive data set.\n",
        "    -- sigma1: The covariance matrix over activations of the pool_3 layer for\n",
        "               generated samples.\n",
        "    -- sigma2: The covariance matrix over activations of the pool_3 layer,\n",
        "               precalcualted on an representive data set.\n",
        "    Returns:\n",
        "    --   : The Frechet Distance.\n",
        "    \"\"\"\n",
        "\n",
        "    mu1 = np.atleast_1d(mu1)\n",
        "    mu2 = np.atleast_1d(mu2)\n",
        "\n",
        "    sigma1 = np.atleast_2d(sigma1)\n",
        "    sigma2 = np.atleast_2d(sigma2)\n",
        "\n",
        "    assert mu1.shape == mu2.shape, \"Training and test mean vectors have different lengths\"\n",
        "    assert sigma1.shape == sigma2.shape, \"Training and test covariances have different dimensions\"\n",
        "\n",
        "    diff = mu1 - mu2\n",
        "    # product might be almost singular\n",
        "    covmean, _ = linalg.sqrtm(sigma1.dot(sigma2), disp=False)\n",
        "    if not np.isfinite(covmean).all():\n",
        "        msg = \"fid calculation produces singular product; adding %s to diagonal of cov estimates\" % eps\n",
        "        warnings.warn(msg)\n",
        "        offset = np.eye(sigma1.shape[0]) * eps\n",
        "        covmean = linalg.sqrtm((sigma1 + offset).dot(sigma2 + offset))\n",
        "\n",
        "    # numerical error might give slight imaginary component\n",
        "    if np.iscomplexobj(covmean):\n",
        "        if not np.allclose(np.diagonal(covmean).imag, 0, atol=1e-3):\n",
        "            m = np.max(np.abs(covmean.imag))\n",
        "            raise ValueError(\"Imaginary component {}\".format(m))\n",
        "        covmean = covmean.real\n",
        "\n",
        "    tr_covmean = np.trace(covmean)\n",
        "\n",
        "    return diff.dot(diff) + np.trace(sigma1) + np.trace(sigma2) - 2 * tr_covmean"
      ],
      "execution_count": 6,
      "outputs": []
    },
    {
      "cell_type": "code",
      "metadata": {
        "id": "5OHm7P8JHheO"
      },
      "source": [
        "def calculate_afid(images1, images2, use_multiprocessing, batch_size):\n",
        "    \"\"\" Calculate FID between images1 and images2\n",
        "    Args:\n",
        "        images1: np.array, shape: (N, H, W, 3), dtype: np.float32 between 0-1 or np.uint8\n",
        "        images2: np.array, shape: (N, H, W, 3), dtype: np.float32 between 0-1 or np.uint8\n",
        "        use_multiprocessing: If multiprocessing should be used to pre-process the images\n",
        "        batch size: batch size used for inception network\n",
        "    Returns:\n",
        "        FID (scalar)\n",
        "    \"\"\"\n",
        "    images1 = preprocess_images(images1, use_multiprocessing)\n",
        "    images2 = preprocess_images(images2, use_multiprocessing)\n",
        "    mu11, mu12, mu13, sigma11, sigma12, sigma13 = calculate_activation_statistics(images1, batch_size)\n",
        "    mu21, mu22, mu23, sigma21, sigma22, sigma23 = calculate_activation_statistics(images2, batch_size)\n",
        "    fid1 = calculate_frechet_distance(mu11, sigma11, mu21, sigma21) / 341056 * 2048 # normalize with 2048-feature fid score\n",
        "    fid2 = calculate_frechet_distance(mu12, sigma12, mu22, sigma22) / 235200 * 2048 # normalize with 2048-feature fid score\n",
        "    fid3 = calculate_frechet_distance(mu13, sigma13, mu23, sigma23)\n",
        "\n",
        "    # maxpool1 torch.Size([341056])\n",
        "    # maxpool2 torch.Size([235200])\n",
        "    # avgpool torch.Size([2048])\n",
        "\n",
        "    return fid1, fid2, fid3"
      ],
      "execution_count": 7,
      "outputs": []
    },
    {
      "cell_type": "code",
      "metadata": {
        "id": "El2R0k9PIWsJ"
      },
      "source": [
        "def preprocess_image(im):\n",
        "    \"\"\"Resizes and shifts the dynamic range of image to 0-1\n",
        "    Args:\n",
        "        im: np.array, shape: (H, W, 3), dtype: float32 between 0-1 or np.uint8\n",
        "    Return:\n",
        "        im: torch.tensor, shape: (3, 299, 299), dtype: torch.float32 between 0-1\n",
        "    \"\"\"\n",
        "    assert im.shape[2] == 3\n",
        "    assert len(im.shape) == 3\n",
        "    if im.dtype == np.uint8:\n",
        "        im = im.astype(np.float32) / 255\n",
        "    if im.dtype == np.float64:\n",
        "        im = im.astype(np.float32) / 255\n",
        "    im = cv2.resize(im, (299, 299))\n",
        "    im = np.rollaxis(im, axis=2)\n",
        "    im = torch.from_numpy(im)\n",
        "    assert im.max() <= 1.0\n",
        "    assert im.min() >= 0.0\n",
        "    assert im.dtype == torch.float32\n",
        "    assert im.shape == (3, 299, 299)\n",
        "\n",
        "    return im"
      ],
      "execution_count": 8,
      "outputs": []
    },
    {
      "cell_type": "code",
      "metadata": {
        "id": "umds19pPIXkf"
      },
      "source": [
        "def preprocess_images(images, use_multiprocessing):\n",
        "    \"\"\"Resizes and shifts the dynamic range of image to 0-1\n",
        "    Args:\n",
        "        images: np.array, shape: (N, H, W, 3), dtype: float32 between 0-1 or np.uint8\n",
        "        use_multiprocessing: If multiprocessing should be used to pre-process the images\n",
        "    Return:\n",
        "        final_images: torch.tensor, shape: (N, 3, 299, 299), dtype: torch.float32 between 0-1\n",
        "    \"\"\"\n",
        "    if use_multiprocessing:\n",
        "        with multiprocessing.Pool(multiprocessing.cpu_count()) as pool:\n",
        "            jobs = []\n",
        "            for im in images:\n",
        "                job = pool.apply_async(preprocess_image, (im,))\n",
        "                jobs.append(job)\n",
        "            final_images = torch.zeros(images.shape[0], 3, 299, 299)\n",
        "            for idx, job in enumerate(jobs):\n",
        "                im = job.get()\n",
        "                final_images[idx] = im#job.get()\n",
        "    else:\n",
        "        final_images = torch.stack([preprocess_image(im) for im in images], dim=0)\n",
        "    assert final_images.shape == (images.shape[0], 3, 299, 299)\n",
        "    assert final_images.max() <= 1.0\n",
        "    assert final_images.min() >= 0.0\n",
        "    assert final_images.dtype == torch.float32\n",
        "    return final_images"
      ],
      "execution_count": 9,
      "outputs": []
    },
    {
      "cell_type": "code",
      "metadata": {
        "id": "Dl86Q_X4J93l"
      },
      "source": [
        "def to_cuda(elements):\n",
        "    \"\"\"\n",
        "    Transfers elements to cuda if GPU is available\n",
        "    Args:\n",
        "        elements: torch.tensor or torch.nn.module\n",
        "        --\n",
        "    Returns:\n",
        "        elements: same as input on GPU memory, if available\n",
        "    \"\"\"\n",
        "    if torch.cuda.is_available():\n",
        "        return elements.cuda()\n",
        "    return elements"
      ],
      "execution_count": 10,
      "outputs": []
    },
    {
      "cell_type": "code",
      "metadata": {
        "id": "fDG6gFnz0-pp"
      },
      "source": [
        "def load_images(path, verbose=False):\n",
        "    \"\"\" Loads all .png or .jpg images from a given path\n",
        "    Warnings: Expects all images to be of same dtype and shape.\n",
        "    Args:\n",
        "        path: relative path to directory\n",
        "    Returns:\n",
        "        final_images: np.array of image dtype and shape.\n",
        "    \"\"\"\n",
        "    image_paths = []\n",
        "    image_extensions = [\"png\", \"jpg\"]\n",
        "    for ext in image_extensions:\n",
        "        if verbose:\n",
        "            print(\"Looking for images in\", os.path.join(path, \"*.{}\".format(ext)))\n",
        "        for impath in glob.glob(os.path.join(path, \"*.{}\".format(ext))):\n",
        "            image_paths.append(impath)\n",
        "    first_image = cv2.imread(image_paths[0])\n",
        "    W, H = first_image.shape[:2]\n",
        "    image_paths.sort()\n",
        "    image_paths = image_paths\n",
        "    final_images = np.zeros((len(image_paths), W, H, 3), dtype=first_image.dtype)\n",
        "    for idx, impath in enumerate(image_paths):\n",
        "        im = cv2.imread(impath)\n",
        "        im = im[:, :, ::-1] # Convert from BGR to RGB\n",
        "        assert im.dtype == final_images.dtype\n",
        "        final_images[idx] = im\n",
        "    return final_images"
      ],
      "execution_count": 11,
      "outputs": []
    },
    {
      "cell_type": "markdown",
      "metadata": {
        "id": "MRfMaO193LPT"
      },
      "source": [
        "# Calc FID"
      ]
    },
    {
      "cell_type": "code",
      "metadata": {
        "id": "_JSrHHVYIis6",
        "colab": {
          "base_uri": "https://localhost:8080/",
          "height": 102,
          "referenced_widgets": [
            "a2c9806fe64349a4a7becee918baf92f",
            "d9a2d8abbe944d53bf6350b8e569977b",
            "b93205683346499e8457e28d9fc750b1",
            "b64ae8223b124f8881ac9a75214f74f3",
            "e0ce14c98ba44c67b4b8f88a96065f1a",
            "8ad76e3f336148e5acfc4cf7f28bc183",
            "bbf443eac8c444999a15ff1577f63278",
            "cd89e7d1b8ed4cc7996272fef1f0d349"
          ]
        },
        "outputId": "1ecdd9c5-c105-4de4-86ea-1b5141408be3"
      },
      "source": [
        "original_model = torchvision.models.inception_v3(pretrained=True)"
      ],
      "execution_count": 12,
      "outputs": [
        {
          "output_type": "stream",
          "text": [
            "Downloading: \"https://download.pytorch.org/models/inception_v3_google-1a9a5a14.pth\" to /root/.cache/torch/hub/checkpoints/inception_v3_google-1a9a5a14.pth\n"
          ],
          "name": "stderr"
        },
        {
          "output_type": "display_data",
          "data": {
            "application/vnd.jupyter.widget-view+json": {
              "model_id": "a2c9806fe64349a4a7becee918baf92f",
              "version_minor": 0,
              "version_major": 2
            },
            "text/plain": [
              "HBox(children=(FloatProgress(value=0.0, max=108857766.0), HTML(value='')))"
            ]
          },
          "metadata": {
            "tags": []
          }
        },
        {
          "output_type": "stream",
          "text": [
            "\n"
          ],
          "name": "stdout"
        }
      ]
    },
    {
      "cell_type": "markdown",
      "metadata": {
        "id": "cqIBUwYc3ukZ"
      },
      "source": [
        "## Example 1 - Random Tensors"
      ]
    },
    {
      "cell_type": "code",
      "metadata": {
        "colab": {
          "base_uri": "https://localhost:8080/"
        },
        "id": "E1asYMFWG1ss",
        "outputId": "18428ea1-ce3f-4b31-df73-1fdf9d547841"
      },
      "source": [
        "# Example FID calculations using random tensors\n",
        "# N x H x W x C\n",
        "images1 = np.random.rand(128,299,299,3)\n",
        "images2 = np.random.rand(128,299,299,3)\n",
        "\n",
        "fid_value1, fid_value2, fid_value3 = calculate_afid(images1, images2, use_multiprocessing=False, batch_size=1)\n",
        "print('fid_value1 =', fid_value1)\n",
        "print('fid_value2 =', fid_value2)\n",
        "print('fid_value3 =', fid_value3)"
      ],
      "execution_count": 13,
      "outputs": [
        {
          "output_type": "stream",
          "text": [
            "fid_value1 = 0.0031506618388588174\n",
            "fid_value2 = 0.0054102496714809375\n",
            "fid_value3 = 0.0012284821186330647\n"
          ],
          "name": "stdout"
        }
      ]
    },
    {
      "cell_type": "markdown",
      "metadata": {
        "id": "RLxJ3Rkp3w_X"
      },
      "source": [
        "## Example 2 - Increasing Distortion"
      ]
    },
    {
      "cell_type": "markdown",
      "metadata": {
        "id": "E9zMnoAelZ_X"
      },
      "source": [
        "### Load Data"
      ]
    },
    {
      "cell_type": "code",
      "metadata": {
        "id": "mfiaoCPA0QpN"
      },
      "source": [
        "# Load original directories from Drive\n",
        "!cp -r /content/drive/MyDrive/GAN_Research/Datasets/WarpedFace/ .\n",
        "\n",
        "# Separate images into folders for individual FIDs between edited images\n",
        "# Blur\n",
        "!mkdir WarpedFace/blur/0/\n",
        "!mkdir WarpedFace/blur/1/\n",
        "!mkdir WarpedFace/blur/2/\n",
        "!mkdir WarpedFace/blur/3/\n",
        "!mv WarpedFace/blur/blur0.jpg WarpedFace/blur/0/\n",
        "!mv WarpedFace/blur/blur1.jpg WarpedFace/blur/1/\n",
        "!mv WarpedFace/blur/blur2.jpg WarpedFace/blur/2/\n",
        "!mv WarpedFace/blur/blur3.jpg WarpedFace/blur/3/\n",
        "\n",
        "# Gaussian Noise\n",
        "!mkdir WarpedFace/noise/0/\n",
        "!mkdir WarpedFace/noise/1/\n",
        "!mkdir WarpedFace/noise/2/\n",
        "!mkdir WarpedFace/noise/3/\n",
        "!mv WarpedFace/noise/gaussian0.jpg WarpedFace/noise/0/noise0.jpg\n",
        "!mv WarpedFace/noise/gaussian1.jpg WarpedFace/noise/1/noise1.jpg\n",
        "!mv WarpedFace/noise/gaussian2.jpg WarpedFace/noise/2/noise2.jpg\n",
        "!mv WarpedFace/noise/gaussian3.jpg WarpedFace/noise/3/noise3.jpg\n",
        "\n",
        "# Salt & Pepper\n",
        "!mkdir WarpedFace/sp/0/\n",
        "!mkdir WarpedFace/sp/1/\n",
        "!mkdir WarpedFace/sp/2/\n",
        "!mkdir WarpedFace/sp/3/\n",
        "!mv WarpedFace/sp/sp0.jpg WarpedFace/sp/0/\n",
        "!mv WarpedFace/sp/sp1.jpg WarpedFace/sp/1/\n",
        "!mv WarpedFace/sp/sp2.jpg WarpedFace/sp/2/\n",
        "!mv WarpedFace/sp/sp3.jpg WarpedFace/sp/3/\n",
        "\n",
        "# Warp\n",
        "!mkdir WarpedFace/warp/0/\n",
        "!mkdir WarpedFace/warp/1/\n",
        "!mkdir WarpedFace/warp/2/\n",
        "!mkdir WarpedFace/warp/3/\n",
        "!mv WarpedFace/warp/warp0.jpg WarpedFace/warp/0/\n",
        "!mv WarpedFace/warp/warp1.jpg WarpedFace/warp/1/\n",
        "!mv WarpedFace/warp/warp2.jpg WarpedFace/warp/2/\n",
        "!mv WarpedFace/warp/warp3.jpg WarpedFace/warp/3/"
      ],
      "execution_count": null,
      "outputs": []
    },
    {
      "cell_type": "markdown",
      "metadata": {
        "id": "ApT_tcFqlZQG"
      },
      "source": [
        "### Helper functions"
      ]
    },
    {
      "cell_type": "code",
      "metadata": {
        "id": "6wbhIMs5WJME"
      },
      "source": [
        "### Plot Results\n",
        "\n",
        "def afid_plot_2x2(distortion_fids: np.ndarray, distortion_titles=['noise', 'warp', 'sp', 'blur']):\n",
        "\n",
        "  '''\n",
        "  Creates a plot containing 4 subplots, each showing the correlation of AFID to\n",
        "  the level of distortion applied to the original image.\n",
        "  Parameters:\n",
        "      <np.array> distortion_fids - AFID scores from 4 images, each with 4 levels of distortion\n",
        "\n",
        "  Returns:\n",
        "      fig: Figure\n",
        "      axs: np.ndarray\n",
        "  '''\n",
        "  fig, axs = plt.subplots(2, 2, figsize=(10,10), sharey=True)\n",
        "\n",
        "  fig.suptitle('FID scores based on image distortion level')\n",
        "\n",
        "  afid_subplot(axs[0,0], distortion_fids[0], title=distortion_titles[0], show_legend=True)\n",
        "  fig.legend()\n",
        "  afid_subplot(axs[0,1], distortion_fids[1], title=distortion_titles[1], show_legend=False)\n",
        "  afid_subplot(axs[1,0], distortion_fids[2], title=distortion_titles[2], show_legend=False)\n",
        "  afid_subplot(axs[1,1], distortion_fids[3], title=distortion_titles[3], show_legend=False)\n",
        "\n",
        "\n",
        "  # Hide x labels and tick labels for top plots and y ticks for right plots.\n",
        "\n",
        "\n",
        "  return fig, axs\n",
        "\n",
        "\n",
        "\n",
        "def afid_subplot(ax, fids: np.ndarray, title: str, show_legend: bool=False):\n",
        "  '''\n",
        "  Creates a single subplot within the 2x2 plot of distortion AFID results.\n",
        "\n",
        "  Returns:\n",
        "  '''\n",
        "\n",
        "  x = [0,1,2,3]\n",
        "\n",
        "  for i in range(fids.shape[1]):\n",
        "    # Plot AFID_3 in BOLD for emphasis\n",
        "    if i == 2:\n",
        "      ax.plot(x, fids[:,i], label='AFID{}'.format(i+1), linewidth=3.0)\n",
        "    else:\n",
        "      ax.plot(x, fids[:,i], label='AFID{}'.format(i+1), linewidth=1.0)\n",
        "\n",
        "  ax.set_title(title)\n",
        "  ax.set_xlabel(xlabel='Edit Strength')\n",
        "  ax.set_ylabel(ylabel='FID')"
      ],
      "execution_count": 15,
      "outputs": []
    },
    {
      "cell_type": "code",
      "metadata": {
        "id": "Ibli1nq91_w9"
      },
      "source": [
        "def distortion_fids(dist_type):\n",
        "  '''\n",
        "  Calculates the 3 FID scores between the originial image and a distorted version\n",
        "  Parameters:\n",
        "      dist_type: str, type of distortion (used for file paths)\n",
        "  Returns:\n",
        "      fids: list[list[float]], Matrix of fid scores shape: (4,3)\n",
        "  '''\n",
        "  fids = []\n",
        "  for i in range(4):\n",
        "    path1 = '/content/WarpedFace/{}/0/'.format(dist_type)\n",
        "    path2 = '/content/WarpedFace/{}/{}/'.format(dist_type, str(i))\n",
        "    images1 = load_images(path1)\n",
        "    images2 = load_images(path2)\n",
        "    fid1, fid2, fid3 = calculate_afid(images1, images2, use_multiprocessing=False, batch_size=1)\n",
        "    fids.append([fid1, fid2, fid3])\n",
        "  return np.array(fids)"
      ],
      "execution_count": 16,
      "outputs": []
    },
    {
      "cell_type": "code",
      "metadata": {
        "id": "wPAmPBT1ooZc"
      },
      "source": [
        "def image_grid_1x4(images):\n",
        "  fig, axs = plt.subplots(1,4)\n",
        "\n",
        "  for i in range(len(images)):\n",
        "    img = Image.open(images[i])\n",
        "    axs[i].imshow(img)\n",
        "    axs[i].tick_params(\n",
        "        axis='both',       # changes apply to both axis\n",
        "        which='both',      # both major and minor ticks are affected\n",
        "        bottom=False,      # ticks along the bottom edge are off\n",
        "        top=False,         # ticks along the top edge are off\n",
        "        left=False,\n",
        "        right=False,\n",
        "        labelbottom=False,\n",
        "        labelleft=False) # labels along the bottom edge are off\n",
        "  return fig, axs"
      ],
      "execution_count": 41,
      "outputs": []
    },
    {
      "cell_type": "markdown",
      "metadata": {
        "id": "ZRhz3cQ2lwOU"
      },
      "source": [
        "### Run Example"
      ]
    },
    {
      "cell_type": "code",
      "metadata": {
        "colab": {
          "base_uri": "https://localhost:8080/",
          "height": 120
        },
        "id": "Z1BwzNEapMRN",
        "outputId": "1a6ab462-acb7-4eb6-c045-72edab6257aa"
      },
      "source": [
        "basepath = '/content/WarpedFace'\n",
        "dist_lvls = range(4)\n",
        "dist_type = 'noise'\n",
        "warp_images = ['{}/{}/{}/{}{}.jpg'.format(basepath, dist_type, lvl, dist_type, lvl) for lvl in dist_lvls]\n",
        "\n",
        "fig, axs = image_grid_1x4(warp_images)"
      ],
      "execution_count": 42,
      "outputs": [
        {
          "output_type": "display_data",
          "data": {
            "image/png": "[encoded data removed]",
            "text/plain": [
              "<Figure size 432x288 with 4 Axes>"
            ]
          },
          "metadata": {
            "tags": []
          }
        }
      ]
    },
    {
      "cell_type": "code",
      "metadata": {
        "id": "ebX93c9miZir"
      },
      "source": [
        "# Calculate AFIDS for all distortion types\n",
        "\n",
        "noise_fids = distortion_fids('noise')\n",
        "blur_fids = distortion_fids('blur')\n",
        "warp_fids = distortion_fids('warp')\n",
        "sp_fids = distortion_fids('sp')"
      ],
      "execution_count": null,
      "outputs": []
    },
    {
      "cell_type": "code",
      "metadata": {
        "id": "CQ2wts18Ztnj"
      },
      "source": [
        "# Plot the results\n",
        "\n",
        "dist_fids = [noise_fids, blur_fids, warp_fids, sp_fids]\n",
        "fig, axs = afid_plot_2x2(dist_fids)"
      ],
      "execution_count": null,
      "outputs": []
    },
    {
      "cell_type": "markdown",
      "metadata": {
        "id": "St-U4eaN5G2w"
      },
      "source": [
        "## Example 3 - Directory of images"
      ]
    },
    {
      "cell_type": "code",
      "metadata": {
        "id": "CLhu1RsD5LIp"
      },
      "source": [
        "# def img_dir_to_tensor(path):\n",
        "#   '''\n",
        "#   Loads a directory of images into a single 4D-tensor.\n",
        "#     Parameters: path - filepath to image directory\n",
        "#     Returns: stack - 4D image tensor, torch.Tensor shape [NxHxWxC]\n",
        "#   '''\n",
        "#   tensor_list = []\n",
        "#   images = glob.glob(path + '/*.jpg')\n",
        "#   for img_file in images:\n",
        "#     img = load_img_as_tensor(img_file, extra_dim=False)\n",
        "#     tensor_list.append(img)\n",
        "#   stack = torch.stack(tensor_list)\n",
        "#   return stack\n",
        "\n",
        "path1 = '/content/drive/MyDrive/GAN_Research/Datasets/CelebA_Smiles/real_A/'\n",
        "path2 = '/content/drive/MyDrive/GAN_Research/Datasets/CelebA_Smiles/fake_B/'\n",
        "\n",
        "import time\n",
        "start = time.time()\n",
        "imgs1 = load_images(path1)\n",
        "end = time.time()\n",
        "print('total load time: {} seconds'.format(str(end-start)))\n",
        "imgs2 = load_images(path2)"
      ],
      "execution_count": null,
      "outputs": []
    },
    {
      "cell_type": "code",
      "metadata": {
        "id": "eF2rBbmCfqbU"
      },
      "source": [
        "fid_value1, fid_value2, fid_value3 = calculate_afid(imgs1,imgs2, use_multiprocessing=False, batch_size=1)\n",
        "print(fid_value1)\n",
        "print(fid_value2)\n",
        "print(fid_value3)"
      ],
      "execution_count": null,
      "outputs": []
    },
    {
      "cell_type": "markdown",
      "metadata": {
        "id": "uYiaRRCD3ur7"
      },
      "source": [
        "# CycleGAN AFID Results"
      ]
    },
    {
      "cell_type": "code",
      "metadata": {
        "id": "DiSZ9HN73xYa"
      },
      "source": [
        "import pandas as pd\n",
        "\n",
        "df_A = pd.read_csv('/content/drive/MyDrive/GAN_Research/CycleGAN/models/smile/smile_fid_A.csv',\n",
        "                 names=['epochs','FID1','FID2','FID3'])\n",
        "df_B = pd.read_csv('/content/drive/MyDrive/GAN_Research/CycleGAN/models/smile/smile_fid_B.csv',\n",
        "                 names=['epochs','FID1','FID2','FID3'])\n",
        "\n",
        "sma = 5\n",
        "\n",
        "# df_A['FID1_SMA_4'] = df_A.iloc[:,1].rolling(window=sma).mean()\n",
        "# df_A['FID2_SMA_4'] = df_A.iloc[:,2].rolling(window=sma).mean()\n",
        "# df_A['FID3_SMA_4'] = df_A.iloc[:,3].rolling(window=sma).mean()\n",
        "\n",
        "# df_B['FID1_SMA_4'] = df_B.iloc[:,1].rolling(window=sma).mean()\n",
        "# df_B['FID2_SMA_4'] = df_B.iloc[:,2].rolling(window=sma).mean()\n",
        "# df_B['FID3_SMA_4'] = df_B.iloc[:,3].rolling(window=sma).mean()\n",
        "\n",
        "legend=True\n",
        "\n",
        "df_A.plot(x='epochs', legend=legend, title='Real_A -> Fake_A')\n",
        "df_B.plot(x='epochs', legend=legend, title='Real_B -> Fake_B')"
      ],
      "execution_count": null,
      "outputs": []
    },
    {
      "cell_type": "markdown",
      "metadata": {
        "id": "X01Qi5QiYLGJ"
      },
      "source": [
        "# Other"
      ]
    },
    {
      "cell_type": "code",
      "metadata": {
        "id": "cnDxX_yAJl_Z"
      },
      "source": [
        ""
      ],
      "execution_count": null,
      "outputs": []
    }
  ]
}