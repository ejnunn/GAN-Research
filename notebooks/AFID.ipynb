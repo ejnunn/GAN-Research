{
  "nbformat": 4,
  "nbformat_minor": 0,
  "metadata": {
    "colab": {
      "name": "AFID.ipynb",
      "provenance": [],
      "collapsed_sections": [
        "wOi0LqIoGl80"
      ],
      "machine_shape": "hm",
      "authorship_tag": "ABX9TyNDuCxFsnVWwdu+7qSZk7tH",
      "include_colab_link": true
    },
    "kernelspec": {
      "name": "python3",
      "display_name": "Python 3"
    },
    "accelerator": "GPU"
  },
  "cells": [
    {
      "cell_type": "markdown",
      "metadata": {
        "id": "view-in-github",
        "colab_type": "text"
      },
      "source": [
        "<a href=\"https://colab.research.google.com/github/ejnunn/GAN_Research/blob/main/notebooks/AFID.ipynb\" target=\"_parent\"><img src=\"https://colab.research.google.com/assets/colab-badge.svg\" alt=\"Open In Colab\"/></a>"
      ]
    },
    {
      "cell_type": "markdown",
      "metadata": {
        "id": "HcEeV8oX3Gey"
      },
      "source": [
        "# Prepare Environment"
      ]
    },
    {
      "cell_type": "code",
      "metadata": {
        "colab": {
          "base_uri": "https://localhost:8080/"
        },
        "id": "CKRH6rlt3XRX",
        "outputId": "54b31e4f-952d-462e-9198-1e38ce736704"
      },
      "source": [
        "from google.colab import drive \n",
        "drive.mount('/content/drive')"
      ],
      "execution_count": 1,
      "outputs": [
        {
          "output_type": "stream",
          "text": [
            "Mounted at /content/drive\n"
          ],
          "name": "stdout"
        }
      ]
    },
    {
      "cell_type": "code",
      "metadata": {
        "colab": {
          "base_uri": "https://localhost:8080/"
        },
        "id": "6rdbbNg67b0m",
        "outputId": "20ce8e6a-fdbc-49be-f7ce-9bb88f48d70f"
      },
      "source": [
        "# !rm -r GAN_Research\n",
        "!git clone --quiet https://github.com/ejnunn/GAN_Research.git\n",
        "!pip install torchextractor"
      ],
      "execution_count": 2,
      "outputs": [
        {
          "output_type": "stream",
          "text": [
            "Collecting torchextractor\n",
            "  Downloading https://files.pythonhosted.org/packages/cc/94/f14591882d0459a626d6aa8ed3699b08e6b79192c26cae87cbd6081cb835/torchextractor-0.3.0-py3-none-any.whl\n",
            "Requirement already satisfied: torch>=1.4.0 in /usr/local/lib/python3.7/dist-packages (from torchextractor) (1.8.0+cu101)\n",
            "Requirement already satisfied: numpy in /usr/local/lib/python3.7/dist-packages (from torchextractor) (1.19.5)\n",
            "Requirement already satisfied: typing-extensions in /usr/local/lib/python3.7/dist-packages (from torch>=1.4.0->torchextractor) (3.7.4.3)\n",
            "Installing collected packages: torchextractor\n",
            "Successfully installed torchextractor-0.3.0\n"
          ],
          "name": "stdout"
        }
      ]
    },
    {
      "cell_type": "code",
      "metadata": {
        "id": "xpHEnt2x7gV0"
      },
      "source": [
        "import torch\n",
        "import torchvision\n",
        "import torchextractor as tx\n",
        "import multiprocessing\n",
        "import numpy as np\n",
        "import cv2\n",
        "from scipy import linalg\n",
        "import os\n",
        "import glob\n",
        "from PIL import Image\n",
        "import matplotlib.pyplot as plt"
      ],
      "execution_count": 3,
      "outputs": []
    },
    {
      "cell_type": "markdown",
      "metadata": {
        "id": "wOi0LqIoGl80"
      },
      "source": [
        "# FID Functions"
      ]
    },
    {
      "cell_type": "code",
      "metadata": {
        "id": "jPGKb-EbHEOV"
      },
      "source": [
        "def get_activations(images, batch_size):\n",
        "    \"\"\"\n",
        "    Calculates activations for last pool layer for all iamges\n",
        "    --\n",
        "        Images: torch.array shape: (N, 3, 299, 299), dtype: torch.float32\n",
        "        batch size: batch size used for inception network\n",
        "    --\n",
        "    Returns: np array shape: (N, 2048), dtype: np.float32\n",
        "    \"\"\"\n",
        "    assert images.shape[1:] == (3, 299, 299), \"Expected input shape to be: (N,3,299,299)\" +\\\n",
        "                                              \", but got {}\".format(images.shape)\n",
        "\n",
        "    num_images = images.shape[0]\n",
        "    original_model = torchvision.models.inception_v3(pretrained=True)\n",
        "    fid_layers = ['maxpool1', 'maxpool2', 'avgpool']\n",
        "\n",
        "    assert all(x in tx.list_module_names(original_model) for x in fid_layers), \"Inception_v3 model does not contain necessary layers for FID calculations\"\n",
        "    \n",
        "    inception_network = tx.Extractor(original_model, fid_layers)\n",
        "    inception_network = to_cuda(inception_network)\n",
        "    inception_network.eval()\n",
        "    n_batches = int(np.ceil(num_images  / batch_size))\n",
        "    inception_activations = np.zeros((num_images, 2048), dtype=np.float32)\n",
        "    for batch_idx in range(n_batches):\n",
        "        start_idx = batch_size * batch_idx\n",
        "        end_idx = batch_size * (batch_idx + 1)\n",
        "\n",
        "        ims = images[start_idx:end_idx]\n",
        "        ims = to_cuda(ims)\n",
        "        model_output, features = inception_network(ims)\n",
        "        act1, act2, act3 = features.values()\n",
        "\n",
        "        act1 = act1.detach().cpu().numpy().flatten()\n",
        "        act1 = np.expand_dims(act1, axis=0)\n",
        "        act2 = act2.detach().cpu().numpy().flatten()\n",
        "        act2 = np.expand_dims(act2, axis=0)\n",
        "        act3 = act3.detach().cpu().numpy().squeeze()\n",
        "        act3 = np.expand_dims(act3, axis=0)\n",
        "        \n",
        "        assert act1.shape == (ims.shape[0], 341056), \"Expexted output shape to be: {}, but was: {}\".format((ims.shape[0], 341056), act1.shape)\n",
        "        assert act2.shape == (ims.shape[0], 235200), \"Expexted output shape to be: {}, but was: {}\".format((ims.shape[0], 235200), act2.shape)\n",
        "        assert act3.shape == (ims.shape[0], 2048), \"Expexted output shape to be: {}, but was: {}\".format((ims.shape[0], 2048), act3.shape)\n",
        "        \n",
        "    return act1, act2, act3"
      ],
      "execution_count": 40,
      "outputs": []
    },
    {
      "cell_type": "code",
      "metadata": {
        "id": "34-83NzMGkUX"
      },
      "source": [
        "def calculate_activation_statistics(images, batch_size):\n",
        "    \"\"\"Calculates the statistics used by FID\n",
        "    Args:\n",
        "        images: torch.tensor, shape: (N, 3, H, W), dtype: torch.float32 in range 0 - 1\n",
        "        batch_size: batch size to use to calculate inception scores\n",
        "    Returns:\n",
        "        mu:     mean over all activations from the last pool layer of the inception model\n",
        "        sigma:  covariance matrix over all activations from the last pool layer \n",
        "                of the inception model.\n",
        "    \"\"\"\n",
        "    act1, act2, act3 = get_activations(images, batch_size)\n",
        "    \n",
        "    mu1 = np.mean(act1, axis=0)\n",
        "    mu2 = np.mean(act2, axis=0)\n",
        "    mu3 = np.mean(act3, axis=0)\n",
        "\n",
        "    sigma1 = np.cov(act1, rowvar=False)\n",
        "    sigma2 = np.cov(act2, rowvar=False)\n",
        "    sigma3 = np.cov(act3, rowvar=False)\n",
        "    return mu1, mu2, mu3, sigma1, sigma2, sigma3"
      ],
      "execution_count": 5,
      "outputs": []
    },
    {
      "cell_type": "code",
      "metadata": {
        "id": "F1gSAHNXAuv0"
      },
      "source": [
        "# Modified from: https://github.com/bioinf-jku/TTUR/blob/master/fid.py\n",
        "def calculate_frechet_distance(mu1, sigma1, mu2, sigma2, eps=1e-6):\n",
        "    \"\"\"Numpy implementation of the Frechet Distance.\n",
        "    The Frechet distance between two multivariate Gaussians X_1 ~ N(mu_1, C_1)\n",
        "    and X_2 ~ N(mu_2, C_2) is\n",
        "            d^2 = ||mu_1 - mu_2||^2 + Tr(C_1 + C_2 - 2*sqrt(C_1*C_2)).\n",
        "            \n",
        "    Stable version by Dougal J. Sutherland.\n",
        "    Params:\n",
        "    -- mu1 : Numpy array containing the activations of the pool_3 layer of the\n",
        "             inception net ( like returned by the function 'get_predictions')\n",
        "             for generated samples.\n",
        "    -- mu2   : The sample mean over activations of the pool_3 layer, precalcualted\n",
        "               on an representive data set.\n",
        "    -- sigma1: The covariance matrix over activations of the pool_3 layer for\n",
        "               generated samples.\n",
        "    -- sigma2: The covariance matrix over activations of the pool_3 layer,\n",
        "               precalcualted on an representive data set.\n",
        "    Returns:\n",
        "    --   : The Frechet Distance.\n",
        "    \"\"\"\n",
        "\n",
        "    mu1 = np.atleast_1d(mu1)\n",
        "    mu2 = np.atleast_1d(mu2)\n",
        "\n",
        "    sigma1 = np.atleast_2d(sigma1)\n",
        "    sigma2 = np.atleast_2d(sigma2)\n",
        "\n",
        "    assert mu1.shape == mu2.shape, \"Training and test mean vectors have different lengths\"\n",
        "    assert sigma1.shape == sigma2.shape, \"Training and test covariances have different dimensions\"\n",
        "\n",
        "    diff = mu1 - mu2\n",
        "    # product might be almost singular\n",
        "    covmean, _ = linalg.sqrtm(sigma1.dot(sigma2), disp=False)\n",
        "    if not np.isfinite(covmean).all():\n",
        "        msg = \"fid calculation produces singular product; adding %s to diagonal of cov estimates\" % eps\n",
        "        warnings.warn(msg)\n",
        "        offset = np.eye(sigma1.shape[0]) * eps\n",
        "        covmean = linalg.sqrtm((sigma1 + offset).dot(sigma2 + offset))\n",
        "\n",
        "    # numerical error might give slight imaginary component\n",
        "    if np.iscomplexobj(covmean):\n",
        "        if not np.allclose(np.diagonal(covmean).imag, 0, atol=1e-3):\n",
        "            m = np.max(np.abs(covmean.imag))\n",
        "            raise ValueError(\"Imaginary component {}\".format(m))\n",
        "        covmean = covmean.real\n",
        "\n",
        "    tr_covmean = np.trace(covmean)\n",
        "\n",
        "    return diff.dot(diff) + np.trace(sigma1) + np.trace(sigma2) - 2 * tr_covmean"
      ],
      "execution_count": 6,
      "outputs": []
    },
    {
      "cell_type": "code",
      "metadata": {
        "id": "5OHm7P8JHheO"
      },
      "source": [
        "def calculate_fid(images1, images2, use_multiprocessing, batch_size):\n",
        "    \"\"\" Calculate FID between images1 and images2\n",
        "    Args:\n",
        "        images1: np.array, shape: (N, H, W, 3), dtype: np.float32 between 0-1 or np.uint8\n",
        "        images2: np.array, shape: (N, H, W, 3), dtype: np.float32 between 0-1 or np.uint8\n",
        "        use_multiprocessing: If multiprocessing should be used to pre-process the images\n",
        "        batch size: batch size used for inception network\n",
        "    Returns:\n",
        "        FID (scalar)\n",
        "    \"\"\"\n",
        "    images1 = preprocess_images(images1, use_multiprocessing)\n",
        "    images2 = preprocess_images(images2, use_multiprocessing)\n",
        "    mu11, mu12, mu13, sigma11, sigma12, sigma13 = calculate_activation_statistics(images1, batch_size)\n",
        "    mu21, mu22, mu23, sigma21, sigma22, sigma23 = calculate_activation_statistics(images2, batch_size)\n",
        "    fid1 = calculate_frechet_distance(mu11, sigma11, mu21, sigma21) / 341056 * 2048 # normalize with 2048-feature fid score\n",
        "    fid2 = calculate_frechet_distance(mu12, sigma12, mu22, sigma22) / 235200 * 2048 # normalize with 2048-feature fid score\n",
        "    fid3 = calculate_frechet_distance(mu13, sigma13, mu23, sigma23)\n",
        "\n",
        "    # maxpool1 torch.Size([341056])\n",
        "    # maxpool2 torch.Size([235200])\n",
        "    # avgpool torch.Size([2048])\n",
        "\n",
        "    return fid1, fid2, fid3"
      ],
      "execution_count": 7,
      "outputs": []
    },
    {
      "cell_type": "code",
      "metadata": {
        "id": "El2R0k9PIWsJ"
      },
      "source": [
        "def preprocess_image(im):\n",
        "    \"\"\"Resizes and shifts the dynamic range of image to 0-1\n",
        "    Args:\n",
        "        im: np.array, shape: (H, W, 3), dtype: float32 between 0-1 or np.uint8\n",
        "    Return:\n",
        "        im: torch.tensor, shape: (3, 299, 299), dtype: torch.float32 between 0-1\n",
        "    \"\"\"\n",
        "    assert im.shape[2] == 3\n",
        "    assert len(im.shape) == 3\n",
        "    if im.dtype == np.uint8:\n",
        "        im = im.astype(np.float32) / 255\n",
        "    if im.dtype == np.float64:\n",
        "        im = im.astype(np.float32) / 255\n",
        "    im = cv2.resize(im, (299, 299))\n",
        "    im = np.rollaxis(im, axis=2)\n",
        "    im = torch.from_numpy(im)\n",
        "    assert im.max() <= 1.0\n",
        "    assert im.min() >= 0.0\n",
        "    assert im.dtype == torch.float32\n",
        "    assert im.shape == (3, 299, 299)\n",
        "\n",
        "    return im"
      ],
      "execution_count": 8,
      "outputs": []
    },
    {
      "cell_type": "code",
      "metadata": {
        "id": "umds19pPIXkf"
      },
      "source": [
        "def preprocess_images(images, use_multiprocessing):\n",
        "    \"\"\"Resizes and shifts the dynamic range of image to 0-1\n",
        "    Args:\n",
        "        images: np.array, shape: (N, H, W, 3), dtype: float32 between 0-1 or np.uint8\n",
        "        use_multiprocessing: If multiprocessing should be used to pre-process the images\n",
        "    Return:\n",
        "        final_images: torch.tensor, shape: (N, 3, 299, 299), dtype: torch.float32 between 0-1\n",
        "    \"\"\"\n",
        "    if use_multiprocessing:\n",
        "        with multiprocessing.Pool(multiprocessing.cpu_count()) as pool:\n",
        "            jobs = []\n",
        "            for im in images:\n",
        "                job = pool.apply_async(preprocess_image, (im,))\n",
        "                jobs.append(job)\n",
        "            final_images = torch.zeros(images.shape[0], 3, 299, 299)\n",
        "            for idx, job in enumerate(jobs):\n",
        "                im = job.get()\n",
        "                final_images[idx] = im#job.get()\n",
        "    else:\n",
        "        final_images = torch.stack([preprocess_image(im) for im in images], dim=0)\n",
        "    assert final_images.shape == (images.shape[0], 3, 299, 299)\n",
        "    assert final_images.max() <= 1.0\n",
        "    assert final_images.min() >= 0.0\n",
        "    assert final_images.dtype == torch.float32\n",
        "    return final_images"
      ],
      "execution_count": 9,
      "outputs": []
    },
    {
      "cell_type": "code",
      "metadata": {
        "id": "Dl86Q_X4J93l"
      },
      "source": [
        "def to_cuda(elements):\n",
        "    \"\"\"\n",
        "    Transfers elements to cuda if GPU is available\n",
        "    Args:\n",
        "        elements: torch.tensor or torch.nn.module\n",
        "        --\n",
        "    Returns:\n",
        "        elements: same as input on GPU memory, if available\n",
        "    \"\"\"\n",
        "    if torch.cuda.is_available():\n",
        "        return elements.cuda()\n",
        "    return elements"
      ],
      "execution_count": 10,
      "outputs": []
    },
    {
      "cell_type": "code",
      "metadata": {
        "id": "fDG6gFnz0-pp"
      },
      "source": [
        "def load_images(path, verbose=False):\n",
        "    \"\"\" Loads all .png or .jpg images from a given path\n",
        "    Warnings: Expects all images to be of same dtype and shape.\n",
        "    Args:\n",
        "        path: relative path to directory\n",
        "    Returns:\n",
        "        final_images: np.array of image dtype and shape.\n",
        "    \"\"\"\n",
        "    image_paths = []\n",
        "    image_extensions = [\"png\", \"jpg\"]\n",
        "    for ext in image_extensions:\n",
        "        if verbose:\n",
        "            print(\"Looking for images in\", os.path.join(path, \"*.{}\".format(ext)))\n",
        "        for impath in glob.glob(os.path.join(path, \"*.{}\".format(ext))):\n",
        "            image_paths.append(impath)\n",
        "    first_image = cv2.imread(image_paths[0])\n",
        "    W, H = first_image.shape[:2]\n",
        "    image_paths.sort()\n",
        "    image_paths = image_paths\n",
        "    final_images = np.zeros((len(image_paths), W, H, 3), dtype=first_image.dtype)\n",
        "    for idx, impath in enumerate(image_paths):\n",
        "        im = cv2.imread(impath)\n",
        "        im = im[:, :, ::-1] # Convert from BGR to RGB\n",
        "        assert im.dtype == final_images.dtype\n",
        "        final_images[idx] = im\n",
        "    return final_images"
      ],
      "execution_count": 59,
      "outputs": []
    },
    {
      "cell_type": "markdown",
      "metadata": {
        "id": "MRfMaO193LPT"
      },
      "source": [
        "# Calc FID"
      ]
    },
    {
      "cell_type": "code",
      "metadata": {
        "id": "_JSrHHVYIis6"
      },
      "source": [
        "original_model = torchvision.models.inception_v3(pretrained=True)"
      ],
      "execution_count": 37,
      "outputs": []
    },
    {
      "cell_type": "markdown",
      "metadata": {
        "id": "cqIBUwYc3ukZ"
      },
      "source": [
        "## Example 1 - Random Tensors"
      ]
    },
    {
      "cell_type": "code",
      "metadata": {
        "id": "E1asYMFWG1ss"
      },
      "source": [
        "# Example FID calculations using random tensors\n",
        "# N x H x W x C\n",
        "images1 = np.random.rand(128,299,299,3)\n",
        "images2 = np.random.rand(128,299,299,3)\n",
        "\n",
        "fid_value1, fid_value2, fid_value3 = calculate_fid(images1, images2, use_multiprocessing=False, batch_size=1)\n",
        "print('fid_value1 =', fid_value1)\n",
        "print('fid_value2 =', fid_value2)\n",
        "print('fid_value3 =', fid_value3)"
      ],
      "execution_count": null,
      "outputs": []
    },
    {
      "cell_type": "markdown",
      "metadata": {
        "id": "RLxJ3Rkp3w_X"
      },
      "source": [
        "## Example 2 - Edited Images"
      ]
    },
    {
      "cell_type": "code",
      "metadata": {
        "id": "mfiaoCPA0QpN"
      },
      "source": [
        "# Load original directories from Drive\n",
        "!cp -r /content/drive/MyDrive/GAN_Research/Datasets/WarpedFace/ .\n",
        "\n",
        "# Separate images into folders for individual FIDs between edited images\n",
        "# Blur\n",
        "!mkdir WarpedFace/blur/0/\n",
        "!mkdir WarpedFace/blur/1/\n",
        "!mkdir WarpedFace/blur/2/\n",
        "!mkdir WarpedFace/blur/3/\n",
        "!mv WarpedFace/blur/blur0.jpg WarpedFace/blur/0/\n",
        "!mv WarpedFace/blur/blur1.jpg WarpedFace/blur/1/\n",
        "!mv WarpedFace/blur/blur2.jpg WarpedFace/blur/2/\n",
        "!mv WarpedFace/blur/blur3.jpg WarpedFace/blur/3/\n",
        "\n",
        "# Gaussian Noise\n",
        "!mkdir WarpedFace/noise/0/\n",
        "!mkdir WarpedFace/noise/1/\n",
        "!mkdir WarpedFace/noise/2/\n",
        "!mkdir WarpedFace/noise/3/\n",
        "!mv WarpedFace/noise/gaussian0.jpg WarpedFace/noise/0/\n",
        "!mv WarpedFace/noise/gaussian1.jpg WarpedFace/noise/1/\n",
        "!mv WarpedFace/noise/gaussian2.jpg WarpedFace/noise/2/\n",
        "!mv WarpedFace/noise/gaussian3.jpg WarpedFace/noise/3/\n",
        "\n",
        "# Salt & Pepper\n",
        "!mkdir WarpedFace/sp/0/\n",
        "!mkdir WarpedFace/sp/1/\n",
        "!mkdir WarpedFace/sp/2/\n",
        "!mkdir WarpedFace/sp/3/\n",
        "!mv WarpedFace/sp/sp0.jpg WarpedFace/sp/0/\n",
        "!mv WarpedFace/sp/sp1.jpg WarpedFace/sp/1/\n",
        "!mv WarpedFace/sp/sp2.jpg WarpedFace/sp/2/\n",
        "!mv WarpedFace/sp/sp3.jpg WarpedFace/sp/3/\n",
        "\n",
        "# Warp\n",
        "!mkdir WarpedFace/warp/0/\n",
        "!mkdir WarpedFace/warp/1/\n",
        "!mkdir WarpedFace/warp/2/\n",
        "!mkdir WarpedFace/warp/3/\n",
        "!mv WarpedFace/warp/warp0.jpg WarpedFace/warp/0/\n",
        "!mv WarpedFace/warp/warp1.jpg WarpedFace/warp/1/\n",
        "!mv WarpedFace/warp/warp2.jpg WarpedFace/warp/2/\n",
        "!mv WarpedFace/warp/warp3.jpg WarpedFace/warp/3/"
      ],
      "execution_count": null,
      "outputs": []
    },
    {
      "cell_type": "code",
      "metadata": {
        "id": "Ibli1nq91_w9"
      },
      "source": [
        "def distortion_fids(dist_type):\n",
        "  '''\n",
        "  Calculates the 3 FID scores between the originial image and a distorted version\n",
        "  Parameters:\n",
        "      dist_type: str, type of distortion (used for file paths)\n",
        "  Returns:\n",
        "      fids: list[list[float]], Matrix of fid scores shape: (4,3)\n",
        "  '''\n",
        "  fids = []\n",
        "  for i in range(4):\n",
        "    path1 = '/content/WarpedFace/{}/0/'.format(dist_type)\n",
        "    path2 = '/content/WarpedFace/{}/{}/'.format(dist_type, str(i))\n",
        "    images1 = load_images(path1)\n",
        "    images2 = load_images(path2)\n",
        "    fid1, fid2, fid3 = calculate_fid(images1, images2, use_multiprocessing=False, batch_size=1)\n",
        "    fids.append([fid1, fid2, fid3])\n",
        "  return np.array(fids)"
      ],
      "execution_count": 95,
      "outputs": []
    },
    {
      "cell_type": "code",
      "metadata": {
        "id": "eQpo7XOmFsi5"
      },
      "source": [
        "noise_fids = distortion_fids('noise')\n",
        "blur_fids = distortion_fids('blur')\n",
        "warp_fids = distortion_fids('warp')\n",
        "sp_fids = distortion_fids('sp')"
      ],
      "execution_count": 96,
      "outputs": []
    },
    {
      "cell_type": "code",
      "metadata": {
        "id": "us1gNtGcKJJY",
        "outputId": "df2ca7d1-3f92-47d6-e205-124b621293aa",
        "colab": {
          "base_uri": "https://localhost:8080/"
        }
      },
      "source": [
        "noise_fids.shape"
      ],
      "execution_count": 99,
      "outputs": [
        {
          "output_type": "execute_result",
          "data": {
            "text/plain": [
              "(4, 3)"
            ]
          },
          "metadata": {
            "tags": []
          },
          "execution_count": 99
        }
      ]
    },
    {
      "cell_type": "code",
      "metadata": {
        "colab": {
          "base_uri": "https://localhost:8080/",
          "height": 561
        },
        "id": "6wbhIMs5WJME",
        "outputId": "d2b52d7f-574b-4ff1-bb71-8bf00aa0769a"
      },
      "source": [
        "x = [0,1,2,3]\n",
        "\n",
        "fig, axs = plt.subplots(2, 2, figsize=(8,8))\n",
        "\n",
        "fig.suptitle('FID scores based on image distortion level')\n",
        "\n",
        "for i in range(noise_fids.shape[1]):\n",
        "  axs[0, 0].plot(x, noise_fids[:,i], label='FID{}'.format(i+1))\n",
        "axs[0, 0].set_title('Noise')\n",
        "\n",
        "fig.legend() # plot legend here to avoid duplication\n",
        "\n",
        "for i in range(warp_fids.shape[1]):\n",
        "  axs[0, 1].plot(x, warp_fids[:,i], label='FID{}'.format(i+1))\n",
        "axs[0, 1].set_title('Warp')\n",
        "\n",
        "for i in range(sp_fids.shape[1]):\n",
        "  axs[1, 0].plot(x, sp_fids[:,i], label='FID{}'.format(i+1))\n",
        "axs[1, 0].set_title('S&P')\n",
        "\n",
        "for i in range(blur_fids.shape[1]):\n",
        "  axs[1, 1].plot(x, blur_fids[:,i], label='FID{}'.format(i+1))\n",
        "axs[1, 1].set_title('Blur')\n",
        "\n",
        "for ax in axs.flat:\n",
        "    ax.set(xlabel='Edit Strength', ylabel='FID')\n",
        "\n",
        "# Hide x labels and tick labels for top plots and y ticks for right plots.\n",
        "for ax in axs.flat:\n",
        "    ax.label_outer()"
      ],
      "execution_count": 117,
      "outputs": [
        {
          "output_type": "display_data",
          "data": {
            "image/png": "[encoded data removed]",
            "text/plain": [
              "<Figure size 576x576 with 4 Axes>"
            ]
          },
          "metadata": {
            "tags": [],
            "needs_background": "light"
          }
        }
      ]
    },
    {
      "cell_type": "markdown",
      "metadata": {
        "id": "St-U4eaN5G2w"
      },
      "source": [
        "## Example 3 - Directory of images"
      ]
    },
    {
      "cell_type": "code",
      "metadata": {
        "id": "CLhu1RsD5LIp"
      },
      "source": [
        "def img_dir_to_tensor(root):\n",
        "  img_tensors = []\n",
        "  images = glob.glob(root + '/*.jpg')\n",
        "  for img_file in images:\n",
        "    img = load_img_as_tensor(img_file, extra_dim=False)\n",
        "    img_tensors.append(img)\n",
        "  stack = torch.stack(img_tensors)\n",
        "  return stack\n",
        "\n",
        "path1 = '/content/drive/MyDrive/GAN_Research/Datasets/CelebA_Smiles/real_B/'\n",
        "path2 = '/content/drive/MyDrive/GAN_Research/Datasets/CelebA_Smiles/fake_A/'\n",
        "\n",
        "imgs1 = img_dir_to_tensor(path1)\n",
        "imgs2 = img_dir_to_tensor(path2)"
      ],
      "execution_count": null,
      "outputs": []
    },
    {
      "cell_type": "markdown",
      "metadata": {
        "id": "wdI5PKJjEdyw"
      },
      "source": [
        "# Random code"
      ]
    },
    {
      "cell_type": "code",
      "metadata": {
        "id": "Q5NKKygt7qf3"
      },
      "source": [
        "model = tx.Extractor(original_model, ['maxpool1', 'maxpool2', 'avgpool'])\n",
        "model.eval()\n",
        "dummy = torch.rand(1, 3, 299, 299)\n",
        "model_output, features = model(dummy)\n",
        "feature_shapes = {name: f.shape for name, f in features.items()}\n",
        "print(feature_shapes)\n",
        "for name, f in features.items():\n",
        "  print(name, f.flatten().shape)"
      ],
      "execution_count": null,
      "outputs": []
    },
    {
      "cell_type": "code",
      "metadata": {
        "id": "E1p_abAL7UhB"
      },
      "source": [
        ""
      ],
      "execution_count": null,
      "outputs": []
    }
  ]
}