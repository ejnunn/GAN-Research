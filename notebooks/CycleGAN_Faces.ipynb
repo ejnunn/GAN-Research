{
  "nbformat": 4,
  "nbformat_minor": 0,
  "metadata": {
    "accelerator": "GPU",
    "colab": {
      "name": "CycleGAN_Faces.ipynb",
      "provenance": [],
      "collapsed_sections": [
        "UzX0PADBqAMb"
      ],
      "toc_visible": true,
      "machine_shape": "hm",
      "mount_file_id": "18mgaATZWA8QCC0CJCzA7z3laMyoxXCaT",
      "authorship_tag": "ABX9TyM58ubhLEqlY/TuIicHsxD0",
      "include_colab_link": true
    },
    "kernelspec": {
      "display_name": "Python 3",
      "name": "python3"
    },
    "widgets": {
      "application/vnd.jupyter.widget-state+json": {
        "06c0c5e9fb624d0b9a7b8ea27eeb31ea": {
          "model_module": "@jupyter-widgets/controls",
          "model_name": "HBoxModel",
          "state": {
            "_view_name": "HBoxView",
            "_dom_classes": [],
            "_model_name": "HBoxModel",
            "_view_module": "@jupyter-widgets/controls",
            "_model_module_version": "1.5.0",
            "_view_count": null,
            "_view_module_version": "1.5.0",
            "box_style": "",
            "layout": "IPY_MODEL_a82d0f9dd8184a1894d6ec7d26152c7f",
            "_model_module": "@jupyter-widgets/controls",
            "children": [
              "IPY_MODEL_2e185e52b78643049d5f67dee9c8d1c1",
              "IPY_MODEL_6aebcb35edf249e6af1454542264e0e5"
            ]
          }
        },
        "a82d0f9dd8184a1894d6ec7d26152c7f": {
          "model_module": "@jupyter-widgets/base",
          "model_name": "LayoutModel",
          "state": {
            "_view_name": "LayoutView",
            "grid_template_rows": null,
            "right": null,
            "justify_content": null,
            "_view_module": "@jupyter-widgets/base",
            "overflow": null,
            "_model_module_version": "1.2.0",
            "_view_count": null,
            "flex_flow": null,
            "width": null,
            "min_width": null,
            "border": null,
            "align_items": null,
            "bottom": null,
            "_model_module": "@jupyter-widgets/base",
            "top": null,
            "grid_column": null,
            "overflow_y": null,
            "overflow_x": null,
            "grid_auto_flow": null,
            "grid_area": null,
            "grid_template_columns": null,
            "flex": null,
            "_model_name": "LayoutModel",
            "justify_items": null,
            "grid_row": null,
            "max_height": null,
            "align_content": null,
            "visibility": null,
            "align_self": null,
            "height": null,
            "min_height": null,
            "padding": null,
            "grid_auto_rows": null,
            "grid_gap": null,
            "max_width": null,
            "order": null,
            "_view_module_version": "1.2.0",
            "grid_template_areas": null,
            "object_position": null,
            "object_fit": null,
            "grid_auto_columns": null,
            "margin": null,
            "display": null,
            "left": null
          }
        },
        "2e185e52b78643049d5f67dee9c8d1c1": {
          "model_module": "@jupyter-widgets/controls",
          "model_name": "FloatProgressModel",
          "state": {
            "_view_name": "ProgressView",
            "style": "IPY_MODEL_2a0208d56d854eabb1312f5629af8346",
            "_dom_classes": [],
            "description": "100%",
            "_model_name": "FloatProgressModel",
            "bar_style": "success",
            "max": 2000,
            "_view_module": "@jupyter-widgets/controls",
            "_model_module_version": "1.5.0",
            "value": 2000,
            "_view_count": null,
            "_view_module_version": "1.5.0",
            "orientation": "horizontal",
            "min": 0,
            "description_tooltip": null,
            "_model_module": "@jupyter-widgets/controls",
            "layout": "IPY_MODEL_abece8d993e04047aa299a103c9ec338"
          }
        },
        "6aebcb35edf249e6af1454542264e0e5": {
          "model_module": "@jupyter-widgets/controls",
          "model_name": "HTMLModel",
          "state": {
            "_view_name": "HTMLView",
            "style": "IPY_MODEL_b4fe987504f0479d8b26197021ba6ecd",
            "_dom_classes": [],
            "description": "",
            "_model_name": "HTMLModel",
            "placeholder": "​",
            "_view_module": "@jupyter-widgets/controls",
            "_model_module_version": "1.5.0",
            "value": " 2000/2000 [03:11&lt;00:00, 10.44it/s]",
            "_view_count": null,
            "_view_module_version": "1.5.0",
            "description_tooltip": null,
            "_model_module": "@jupyter-widgets/controls",
            "layout": "IPY_MODEL_eddfdd5bc1e04c4fa760f2cc9cfe928b"
          }
        },
        "2a0208d56d854eabb1312f5629af8346": {
          "model_module": "@jupyter-widgets/controls",
          "model_name": "ProgressStyleModel",
          "state": {
            "_view_name": "StyleView",
            "_model_name": "ProgressStyleModel",
            "description_width": "initial",
            "_view_module": "@jupyter-widgets/base",
            "_model_module_version": "1.5.0",
            "_view_count": null,
            "_view_module_version": "1.2.0",
            "bar_color": null,
            "_model_module": "@jupyter-widgets/controls"
          }
        },
        "abece8d993e04047aa299a103c9ec338": {
          "model_module": "@jupyter-widgets/base",
          "model_name": "LayoutModel",
          "state": {
            "_view_name": "LayoutView",
            "grid_template_rows": null,
            "right": null,
            "justify_content": null,
            "_view_module": "@jupyter-widgets/base",
            "overflow": null,
            "_model_module_version": "1.2.0",
            "_view_count": null,
            "flex_flow": null,
            "width": null,
            "min_width": null,
            "border": null,
            "align_items": null,
            "bottom": null,
            "_model_module": "@jupyter-widgets/base",
            "top": null,
            "grid_column": null,
            "overflow_y": null,
            "overflow_x": null,
            "grid_auto_flow": null,
            "grid_area": null,
            "grid_template_columns": null,
            "flex": null,
            "_model_name": "LayoutModel",
            "justify_items": null,
            "grid_row": null,
            "max_height": null,
            "align_content": null,
            "visibility": null,
            "align_self": null,
            "height": null,
            "min_height": null,
            "padding": null,
            "grid_auto_rows": null,
            "grid_gap": null,
            "max_width": null,
            "order": null,
            "_view_module_version": "1.2.0",
            "grid_template_areas": null,
            "object_position": null,
            "object_fit": null,
            "grid_auto_columns": null,
            "margin": null,
            "display": null,
            "left": null
          }
        },
        "b4fe987504f0479d8b26197021ba6ecd": {
          "model_module": "@jupyter-widgets/controls",
          "model_name": "DescriptionStyleModel",
          "state": {
            "_view_name": "StyleView",
            "_model_name": "DescriptionStyleModel",
            "description_width": "",
            "_view_module": "@jupyter-widgets/base",
            "_model_module_version": "1.5.0",
            "_view_count": null,
            "_view_module_version": "1.2.0",
            "_model_module": "@jupyter-widgets/controls"
          }
        },
        "eddfdd5bc1e04c4fa760f2cc9cfe928b": {
          "model_module": "@jupyter-widgets/base",
          "model_name": "LayoutModel",
          "state": {
            "_view_name": "LayoutView",
            "grid_template_rows": null,
            "right": null,
            "justify_content": null,
            "_view_module": "@jupyter-widgets/base",
            "overflow": null,
            "_model_module_version": "1.2.0",
            "_view_count": null,
            "flex_flow": null,
            "width": null,
            "min_width": null,
            "border": null,
            "align_items": null,
            "bottom": null,
            "_model_module": "@jupyter-widgets/base",
            "top": null,
            "grid_column": null,
            "overflow_y": null,
            "overflow_x": null,
            "grid_auto_flow": null,
            "grid_area": null,
            "grid_template_columns": null,
            "flex": null,
            "_model_name": "LayoutModel",
            "justify_items": null,
            "grid_row": null,
            "max_height": null,
            "align_content": null,
            "visibility": null,
            "align_self": null,
            "height": null,
            "min_height": null,
            "padding": null,
            "grid_auto_rows": null,
            "grid_gap": null,
            "max_width": null,
            "order": null,
            "_view_module_version": "1.2.0",
            "grid_template_areas": null,
            "object_position": null,
            "object_fit": null,
            "grid_auto_columns": null,
            "margin": null,
            "display": null,
            "left": null
          }
        }
      }
    }
  },
  "cells": [
    {
      "cell_type": "markdown",
      "metadata": {
        "id": "view-in-github",
        "colab_type": "text"
      },
      "source": [
        "<a href=\"https://colab.research.google.com/github/ejnunn/GAN_Research/blob/main/notebooks/CycleGAN_Faces.ipynb\" target=\"_parent\"><img src=\"https://colab.research.google.com/assets/colab-badge.svg\" alt=\"Open In Colab\"/></a>"
      ]
    },
    {
      "cell_type": "markdown",
      "metadata": {
        "id": "M5uAaMRZQW7B"
      },
      "source": [
        "# Mount Google Drive"
      ]
    },
    {
      "cell_type": "code",
      "metadata": {
        "colab": {
          "base_uri": "https://localhost:8080/"
        },
        "id": "dshmoVLDPLwZ",
        "outputId": "ca272011-5793-4898-a935-58c198e66891"
      },
      "source": [
        "from google.colab import drive \n",
        "drive.mount('/content/drive')"
      ],
      "execution_count": 1,
      "outputs": [
        {
          "output_type": "stream",
          "text": [
            "Mounted at /content/drive\n"
          ],
          "name": "stdout"
        }
      ]
    },
    {
      "cell_type": "markdown",
      "metadata": {
        "id": "IDVOtBMhGHKP"
      },
      "source": [
        "# Imports and Utils"
      ]
    },
    {
      "cell_type": "code",
      "metadata": {
        "colab": {
          "base_uri": "https://localhost:8080/"
        },
        "id": "B4UbtknqMIU8",
        "outputId": "c8121b24-a642-4e7d-e66a-3bcd5196cd19"
      },
      "source": [
        "!rm -r GAN_Research\n",
        "!git clone https://github.com/ejnunn/GAN_Research.git"
      ],
      "execution_count": 2,
      "outputs": [
        {
          "output_type": "stream",
          "text": [
            "rm: cannot remove 'GAN_Research': No such file or directory\n",
            "Cloning into 'GAN_Research'...\n",
            "remote: Enumerating objects: 241, done.\u001b[K\n",
            "remote: Counting objects: 100% (241/241), done.\u001b[K\n",
            "remote: Compressing objects: 100% (195/195), done.\u001b[K\n",
            "remote: Total 241 (delta 137), reused 100 (delta 43), pack-reused 0\u001b[K\n",
            "Receiving objects: 100% (241/241), 6.83 MiB | 9.66 MiB/s, done.\n",
            "Resolving deltas: 100% (137/137), done.\n"
          ],
          "name": "stdout"
        }
      ]
    },
    {
      "cell_type": "markdown",
      "metadata": {
        "id": "cFcsvI03H5Lr"
      },
      "source": [
        "## Library Imports"
      ]
    },
    {
      "cell_type": "code",
      "metadata": {
        "colab": {
          "base_uri": "https://localhost:8080/"
        },
        "id": "jM-NgFukGoCu",
        "outputId": "acbfcfe3-cd63-44e3-d1f3-6888981fa5ff"
      },
      "source": [
        "import torch\n",
        "from torch import nn\n",
        "from tqdm.auto import tqdm # progress bars\n",
        "import torchvision\n",
        "from torchvision import transforms\n",
        "from torchvision.utils import make_grid\n",
        "from torch.utils.data import DataLoader\n",
        "import matplotlib.pyplot as plt # visualizations\n",
        "import pandas as pd # data processing\n",
        "import shutil # file management\n",
        "import torch.nn.functional as F # used in Hyperparameters cell\n",
        "from skimage import color\n",
        "import numpy as np\n",
        "\n",
        "from GAN_Research.GAN_Research.GAN_Research.utils import *\n",
        "from GAN_Research.models.cycleGAN_losses import *\n",
        "from GAN_Research.scripts.datasets import ImageDataset\n",
        "from GAN_Research.models.CycleGAN import CycleGAN\n",
        "\n",
        "\n",
        "DRIVE_DATASETS = '/drive/MyDrive/GAN_Research/Datasets/'\n",
        "\n",
        "torch.manual_seed(0)"
      ],
      "execution_count": 3,
      "outputs": [
        {
          "output_type": "execute_result",
          "data": {
            "text/plain": [
              "<torch._C.Generator at 0x7faddbbdec70>"
            ]
          },
          "metadata": {
            "tags": []
          },
          "execution_count": 3
        }
      ]
    },
    {
      "cell_type": "markdown",
      "metadata": {
        "id": "oxTTauaxQqvu"
      },
      "source": [
        "# Load data"
      ]
    },
    {
      "cell_type": "markdown",
      "metadata": {
        "id": "UzX0PADBqAMb"
      },
      "source": [
        "## Load CelebA Dataset"
      ]
    },
    {
      "cell_type": "code",
      "metadata": {
        "id": "r5sgsGK7lPUK"
      },
      "source": [
        "## Create two groups of image files, smiling and not smiling ##\n",
        "\n",
        "# Create dataframe to sort CelebA images\n",
        "img_dir_celeba = '/content/drive/MyDrive/GAN_Research/Datasets/CelebA/'\n",
        "attr_filename = 'list_attr_celeba.txt'\n",
        "\n",
        "df = pd.read_csv(img_dir_celeba + attr_filename, skiprows=1, delim_whitespace=True)\n",
        "df = df.reset_index()\n",
        "df.rename(columns={'index': 'filename'}, inplace=True)\n",
        "\n",
        "# Lists of smiling and non-smiling image filenames\n",
        "smiling_list = list(df[['filename']].loc[df['Smiling'] == 1]['filename'])\n",
        "not_smiling_list = list(df[['filename']].loc[df['Smiling'] == -1]['filename'])"
      ],
      "execution_count": 4,
      "outputs": []
    },
    {
      "cell_type": "code",
      "metadata": {
        "colab": {
          "base_uri": "https://localhost:8080/"
        },
        "id": "PHRS0SBvj9lF",
        "outputId": "fae4a59d-7291-44a6-edba-0c9755302775"
      },
      "source": [
        "## Unzip images and move files into the correct category ##\n",
        "\n",
        "# Unzip images from drive and store in current directory\n",
        "!unzip -q /content/drive/MyDrive/GAN_Research/Datasets/CelebA/img_align_celeba.zip\n",
        "\n",
        "# Create training A and B subdirectories\n",
        "!mkdir img_align_celeba/trainA\n",
        "!mkdir img_align_celeba/trainB\n",
        "\n",
        "# Move images into correct subdirectory\n",
        "source_dir = 'img_align_celeba/'\n",
        "destination_dir = 'img_align_celeba/trainA'\n",
        "for img in smiling_list:\n",
        "  try:\n",
        "    shutil.move(source_dir + img, destination_dir)\n",
        "  except:\n",
        "    continue\n",
        "\n",
        "source_dir = 'img_align_celeba/'\n",
        "destination_dir = 'img_align_celeba/trainB'\n",
        "for img in not_smiling_list:\n",
        "  try:\n",
        "    shutil.move(source_dir + img, destination_dir)\n",
        "  except:\n",
        "    continue\n",
        "print('images loaded successfully!')"
      ],
      "execution_count": 5,
      "outputs": [
        {
          "output_type": "stream",
          "text": [
            "images loaded successfully!\n"
          ],
          "name": "stdout"
        }
      ]
    },
    {
      "cell_type": "code",
      "metadata": {
        "colab": {
          "base_uri": "https://localhost:8080/"
        },
        "id": "0jWDA75CG4U6",
        "outputId": "3adc8c7d-b3c0-4c54-b86c-2a9f07430fed"
      },
      "source": [
        "## Load files into a Image Dataset object ##\n",
        "load_shape = 128\n",
        "target_shape = 128\n",
        "# Apply transforms to dataset to augment\n",
        "transform = transforms.Compose([\n",
        "    transforms.Resize(load_shape),\n",
        "    transforms.RandomCrop(target_shape),\n",
        "    transforms.RandomHorizontalFlip(),\n",
        "    transforms.ToTensor(),\n",
        "])\n",
        "\n",
        "img_dir = 'img_align_celeba'\n",
        "training_max_images = 2000\n",
        "dataset = ImageDataset(img_dir, transform=transform, max_size=training_max_images)\n",
        "\n",
        "print(\"Size of dataset: {} images\".format(len(dataset)))"
      ],
      "execution_count": 6,
      "outputs": [
        {
          "output_type": "stream",
          "text": [
            "Size of dataset: 2000 images\n"
          ],
          "name": "stdout"
        }
      ]
    },
    {
      "cell_type": "markdown",
      "metadata": {
        "id": "2uTEDnLrzHWE"
      },
      "source": [
        "# Training"
      ]
    },
    {
      "cell_type": "code",
      "metadata": {
        "id": "YHmiWuZ4imwS"
      },
      "source": [
        "# pretrained cycleGAN weights\n",
        "weights_file = '/content/drive/MyDrive/GAN_Research/CycleGAN/models/smile/smile_80_25_30_15.pth'\n",
        "cyclegan = CycleGAN(weights_file=weights_file)"
      ],
      "execution_count": 42,
      "outputs": []
    },
    {
      "cell_type": "code",
      "metadata": {
        "id": "G7JJgp4KzN6Y"
      },
      "source": [
        "cyclegan.train(dataset)"
      ],
      "execution_count": null,
      "outputs": []
    },
    {
      "cell_type": "code",
      "metadata": {
        "id": "HktP3T7EMOyV"
      },
      "source": [
        ""
      ],
      "execution_count": null,
      "outputs": []
    },
    {
      "cell_type": "markdown",
      "metadata": {
        "id": "nWbloryXL3Ze"
      },
      "source": [
        "# Save Images"
      ]
    },
    {
      "cell_type": "code",
      "metadata": {
        "colab": {
          "base_uri": "https://localhost:8080/",
          "height": 66,
          "referenced_widgets": [
            "06c0c5e9fb624d0b9a7b8ea27eeb31ea",
            "a82d0f9dd8184a1894d6ec7d26152c7f",
            "2e185e52b78643049d5f67dee9c8d1c1",
            "6aebcb35edf249e6af1454542264e0e5",
            "2a0208d56d854eabb1312f5629af8346",
            "abece8d993e04047aa299a103c9ec338",
            "b4fe987504f0479d8b26197021ba6ecd",
            "eddfdd5bc1e04c4fa760f2cc9cfe928b"
          ]
        },
        "id": "1LVh1A8DL2CW",
        "outputId": "ca5a999e-489c-43cc-c5dc-a9a262af5710"
      },
      "source": [
        "from torchvision.utils import save_image\n",
        "\n",
        "batch_size = 1\n",
        "device = 'cuda'\n",
        "# Save 2k generated images from GAN\n",
        "i = 0\n",
        "dataloader = DataLoader(dataset, batch_size=batch_size, shuffle=True)\n",
        "\n",
        "root_dir = '/content/drive/MyDrive/GAN_Research/Datasets/CelebA_Smiles/'\n",
        "dir_real_A = root_dir + 'real_A/'\n",
        "dir_fake_A = root_dir + 'fake_A/'\n",
        "dir_real_B = root_dir + 'real_B/'\n",
        "dir_fake_B = root_dir + 'fake_B/'\n",
        "\n",
        "\n",
        "for real_A, real_B in tqdm(dataloader):\n",
        "  real_A = real_A.to(device)\n",
        "  real_B = real_B.to(device)\n",
        "  fake_A = cyclegan.gen_BA(real_B)\n",
        "  fake_B = cyclegan.gen_AB(real_A)\n",
        "\n",
        "  # if i % 100 == 0:\n",
        "  #   print(i)\n",
        "  #   show_tensor_images(torch.cat([fake_A, fake_B]), size=(cyclegan.dim_A, target_shape, target_shape))\n",
        "  \n",
        "  # detach from GPU\n",
        "  real_A = real_A.cpu()\n",
        "  real_B = real_B.cpu()\n",
        "  fake_A = fake_A.cpu()\n",
        "  fake_B = fake_B.cpu()\n",
        "\n",
        "  # Normalize to (-1,1) instead of (0,1)\n",
        "  # real_A = real_A.sub_(0.5).div_(0.5)\n",
        "  # real_B = real_B.sub_(0.5).div_(0.5)\n",
        "  # fake_A = fake_A.sub_(0.5).div_(0.5)\n",
        "  # fake_B = fake_B.sub_(0.5).div_(0.5)\n",
        "\n",
        "  # Save images\n",
        "  save_image(real_A, '{}{}.jpg'.format(dir_real_A, str(i)))\n",
        "  save_image(fake_A, '{}{}.jpg'.format(dir_fake_A, str(i)))\n",
        "  save_image(real_B, '{}{}.jpg'.format(dir_real_B, str(i)))\n",
        "  save_image(fake_B, '{}{}.jpg'.format(dir_fake_B, str(i)))\n",
        "\n",
        "\n",
        "  i += 1"
      ],
      "execution_count": 11,
      "outputs": [
        {
          "output_type": "display_data",
          "data": {
            "application/vnd.jupyter.widget-view+json": {
              "model_id": "06c0c5e9fb624d0b9a7b8ea27eeb31ea",
              "version_minor": 0,
              "version_major": 2
            },
            "text/plain": [
              "HBox(children=(FloatProgress(value=0.0, max=2000.0), HTML(value='')))"
            ]
          },
          "metadata": {
            "tags": []
          }
        },
        {
          "output_type": "stream",
          "text": [
            "\n"
          ],
          "name": "stdout"
        }
      ]
    },
    {
      "cell_type": "code",
      "metadata": {
        "id": "Fbp3NFP4OxWm"
      },
      "source": [
        "# !cp -r real_A/ /content/drive/MyDrive/GAN_Research/Datasets/CelebA_Smiles/real_A/\n",
        "# !cp -r real_B/ /content/drive/MyDrive/GAN_Research/Datasets/CelebA_Smiles/real_B/\n",
        "# !cp -r fake_A/ /content/drive/MyDrive/GAN_Research/Datasets/CelebA_Smiles/fake_A/\n",
        "# !cp -r fake_B/ /content/drive/MyDrive/GAN_Research/Datasets/CelebA_Smiles/fake_B/"
      ],
      "execution_count": null,
      "outputs": []
    },
    {
      "cell_type": "code",
      "metadata": {
        "id": "2V1Me6NoKczo"
      },
      "source": [
        ""
      ],
      "execution_count": null,
      "outputs": []
    }
  ]
}