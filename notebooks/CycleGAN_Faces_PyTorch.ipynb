{
  "nbformat": 4,
  "nbformat_minor": 0,
  "metadata": {
    "colab": {
      "name": "CycleGAN Faces - PyTorch.ipynb",
      "provenance": [],
      "collapsed_sections": [
        "GbZUS0PDQjij",
        "7pOkwUOAQ3Wr",
        "oxTTauaxQqvu",
        "UzX0PADBqAMb",
        "LZUZob4q9JFJ",
        "tYz_RetKVpKF"
      ],
      "toc_visible": true,
      "machine_shape": "hm",
      "mount_file_id": "18mgaATZWA8QCC0CJCzA7z3laMyoxXCaT",
      "authorship_tag": "ABX9TyMf9YQsUvv90fLiOwYaaOOh",
      "include_colab_link": true
    },
    "kernelspec": {
      "name": "python3",
      "display_name": "Python 3"
    },
    "accelerator": "GPU"
  },
  "cells": [
    {
      "cell_type": "markdown",
      "metadata": {
        "id": "view-in-github",
        "colab_type": "text"
      },
      "source": [
        "<a href=\"https://colab.research.google.com/github/ejnunn/GAN-Research/blob/main/CycleGAN_Faces_PyTorch.ipynb\" target=\"_parent\"><img src=\"https://colab.research.google.com/assets/colab-badge.svg\" alt=\"Open In Colab\"/></a>"
      ]
    },
    {
      "cell_type": "markdown",
      "metadata": {
        "id": "M5uAaMRZQW7B"
      },
      "source": [
        "# Mount Google Drive"
      ]
    },
    {
      "cell_type": "code",
      "metadata": {
        "colab": {
          "base_uri": "https://localhost:8080/"
        },
        "id": "dshmoVLDPLwZ",
        "outputId": "d549014f-2f33-4170-ae72-7dc27a6fd19b"
      },
      "source": [
        "from google.colab import drive \n",
        "drive.mount('/content/drive')"
      ],
      "execution_count": 7,
      "outputs": [
        {
          "output_type": "stream",
          "text": [
            "Drive already mounted at /content/drive; to attempt to forcibly remount, call drive.mount(\"/content/drive\", force_remount=True).\n"
          ],
          "name": "stdout"
        }
      ]
    },
    {
      "cell_type": "markdown",
      "metadata": {
        "id": "IDVOtBMhGHKP"
      },
      "source": [
        "# Imports and Utils"
      ]
    },
    {
      "cell_type": "markdown",
      "metadata": {
        "id": "cFcsvI03H5Lr"
      },
      "source": [
        "## Library Imports"
      ]
    },
    {
      "cell_type": "code",
      "metadata": {
        "id": "jM-NgFukGoCu",
        "colab": {
          "base_uri": "https://localhost:8080/"
        },
        "outputId": "c8c5d241-ad80-497b-e521-4f7137c03fcc"
      },
      "source": [
        "import torch\n",
        "from torch import nn\n",
        "from tqdm.auto import tqdm # progress bars\n",
        "import torchvision\n",
        "from torchvision import transforms\n",
        "from torchvision.utils import make_grid\n",
        "from torch.utils.data import DataLoader\n",
        "import matplotlib.pyplot as plt # visualizations\n",
        "import pandas as pd # data processing\n",
        "import shutil # file management\n",
        "import torch.nn.functional as F # used in Hyperparameters cell\n",
        "from skimage import color\n",
        "import numpy as np\n",
        "\n",
        "torch.manual_seed(0)"
      ],
      "execution_count": 8,
      "outputs": [
        {
          "output_type": "execute_result",
          "data": {
            "text/plain": [
              "<torch._C.Generator at 0x7f347f170bd0>"
            ]
          },
          "metadata": {
            "tags": []
          },
          "execution_count": 8
        }
      ]
    },
    {
      "cell_type": "markdown",
      "metadata": {
        "id": "vmXkzVLlIXou"
      },
      "source": [
        "## Helper functions"
      ]
    },
    {
      "cell_type": "code",
      "metadata": {
        "id": "kqcPPbRxGKle"
      },
      "source": [
        "# Compute the number of trainable parameters\n",
        "def total_trainable_parameters(models):\n",
        "  total = sum([len(x.parameters()) for x in models])\n",
        "  return total"
      ],
      "execution_count": 9,
      "outputs": []
    },
    {
      "cell_type": "code",
      "metadata": {
        "id": "lhaN3IIZGTZ1"
      },
      "source": [
        "# Visualize images in a 2x2 grid.\n",
        "# real_A | real_B\n",
        "# fake_A | fake_B\n",
        "def show_tensor_images(image_tensor, num_images=25, size=(1, 28, 28)):\n",
        "    '''\n",
        "    Function for visualizing images: Given a tensor of images, number of images, and\n",
        "    size per image, plots and prints the images in an uniform grid.\n",
        "    '''\n",
        "    image_tensor = (image_tensor + 1) / 2\n",
        "    image_shifted = image_tensor\n",
        "    image_unflat = image_shifted.detach().cpu().view(-1, *size)\n",
        "    image_grid = make_grid(image_unflat[:num_images], nrow=5)\n",
        "    plt.imshow(image_grid.permute(1, 2, 0).squeeze())\n",
        "    plt.show()"
      ],
      "execution_count": 10,
      "outputs": []
    },
    {
      "cell_type": "code",
      "metadata": {
        "id": "RceatEHAHHtu"
      },
      "source": [
        "# Save backup model weights to Google Drive account.\n",
        "def save_model_to_drive(filename, drive_dir):\n",
        "  try:\n",
        "    # Copy latest checkpoint to Drive for permenant storage\n",
        "    save_filename = drive_dir + filename\n",
        "    torch.save({\n",
        "      'gen_AB': gen_AB.state_dict(),\n",
        "      'gen_BA': gen_BA.state_dict(),\n",
        "      'gen_opt': gen_opt.state_dict(),\n",
        "      'disc_A': disc_A.state_dict(),\n",
        "      'disc_A_opt': disc_A_opt.state_dict(),\n",
        "      'disc_B': disc_B.state_dict(),\n",
        "      'disc_B_opt': disc_B_opt.state_dict()\n",
        "    }, f\"{save_filename}.pth\")\n",
        "  except:\n",
        "    print('Need to mount a Google Drive account to runtime.')"
      ],
      "execution_count": 11,
      "outputs": []
    },
    {
      "cell_type": "markdown",
      "metadata": {
        "id": "DdbPsIaUPSDU"
      },
      "source": [
        "# ImageDataset Class"
      ]
    },
    {
      "cell_type": "code",
      "metadata": {
        "id": "nTjYVZxoPKi8"
      },
      "source": [
        "import glob\n",
        "import random\n",
        "import os\n",
        "from torch.utils.data import Dataset\n",
        "from PIL import Image\n",
        "\n",
        "# Inspired by https://github.com/aitorzip/PyTorch-CycleGAN/blob/master/datasets.py\n",
        "class ImageDataset(Dataset):\n",
        "    '''\n",
        "    Parameters:\n",
        "    max_size - limit dataset size to ensure effective epoch training duration\n",
        "    '''\n",
        "    def __init__(self, root, transform=None, mode='train', max_size=10000):\n",
        "        self.transform = transform\n",
        "        self.files_A = sorted(glob.glob(os.path.join(root, '%sA' % mode) + '/*.*'))[:max_size]\n",
        "        self.files_B = sorted(glob.glob(os.path.join(root, '%sB' % mode) + '/*.*'))[:max_size]\n",
        "        if len(self.files_A) > len(self.files_B):\n",
        "            self.files_A, self.files_B = self.files_B, self.files_A\n",
        "        self.new_perm()\n",
        "        assert len(self.files_A) > 0, \"Make sure you downloaded the correct images!\"\n",
        "\n",
        "    def new_perm(self):\n",
        "        self.randperm = torch.randperm(len(self.files_B))[:len(self.files_A)]\n",
        "\n",
        "    def __getitem__(self, index):\n",
        "        item_A = self.transform(Image.open(self.files_A[index % len(self.files_A)]))\n",
        "        item_B = self.transform(Image.open(self.files_B[self.randperm[index]]))\n",
        "\n",
        "        # Convert B&W images into RGB color\n",
        "        if item_A.shape[0] != 3: \n",
        "            item_A = item_A.repeat(3, 1, 1)\n",
        "        if item_B.shape[0] != 3: \n",
        "            item_B = item_B.repeat(3, 1, 1)\n",
        "        if index == len(self) - 1:\n",
        "            self.new_perm()\n",
        "        # Old versions of PyTorch didn't support normalization for different-channeled images\n",
        "        return (item_A - 0.5) * 2, (item_B - 0.5) * 2\n",
        "\n",
        "    def __len__(self):\n",
        "        return min(len(self.files_A), len(self.files_B))"
      ],
      "execution_count": 12,
      "outputs": []
    },
    {
      "cell_type": "markdown",
      "metadata": {
        "id": "YypEspiMPilY"
      },
      "source": [
        "# Network architecture"
      ]
    },
    {
      "cell_type": "markdown",
      "metadata": {
        "id": "IQnXzBkEOvcU"
      },
      "source": [
        "## ResidualBlock Class"
      ]
    },
    {
      "cell_type": "code",
      "metadata": {
        "id": "h8goz_fYGu1f"
      },
      "source": [
        "class ResidualBlock(nn.Module):\n",
        "    '''\n",
        "    ResidualBlock Class:\n",
        "    Performs two convolutions and an instance normalization, the input is added\n",
        "    to this output to form the residual block output.\n",
        "    Values:\n",
        "        input_channels: the number of channels to expect from a given input\n",
        "    '''\n",
        "    def __init__(self, input_channels):\n",
        "        super(ResidualBlock, self).__init__()\n",
        "        self.conv1 = nn.Conv2d(input_channels, input_channels, kernel_size=3, padding=1, padding_mode='reflect')\n",
        "        self.conv2 = nn.Conv2d(input_channels, input_channels, kernel_size=3, padding=1, padding_mode='reflect')\n",
        "        self.instancenorm = nn.InstanceNorm2d(input_channels)\n",
        "        self.activation = nn.ReLU()\n",
        "\n",
        "    def forward(self, x):\n",
        "        '''\n",
        "        Function for completing a forward pass of ResidualBlock: \n",
        "        Given an image tensor, completes a residual block and returns the transformed tensor.\n",
        "        Parameters:\n",
        "            x: image tensor of shape (batch size, channels, height, width)\n",
        "        '''\n",
        "        original_x = x.clone()\n",
        "        x = self.conv1(x)\n",
        "        x = self.instancenorm(x)\n",
        "        x = self.activation(x)\n",
        "        x = self.conv2(x)\n",
        "        x = self.instancenorm(x)\n",
        "        return original_x + x"
      ],
      "execution_count": 13,
      "outputs": []
    },
    {
      "cell_type": "markdown",
      "metadata": {
        "id": "GG4orGXQPuOa"
      },
      "source": [
        "## ContractingBlock Class"
      ]
    },
    {
      "cell_type": "code",
      "metadata": {
        "id": "DRxh_HUIGxb9"
      },
      "source": [
        "class ContractingBlock(nn.Module):\n",
        "    '''\n",
        "    ContractingBlock Class\n",
        "    Performs a convolution followed by a max pool operation and an optional instance norm.\n",
        "    Values:\n",
        "        input_channels: the number of channels to expect from a given input\n",
        "    '''\n",
        "    def __init__(self, input_channels, use_bn=True, kernel_size=3, activation='relu'):\n",
        "        super(ContractingBlock, self).__init__()\n",
        "        self.conv1 = nn.Conv2d(input_channels, input_channels * 2, kernel_size=kernel_size, padding=1, stride=2, padding_mode='reflect')\n",
        "        self.activation = nn.ReLU() if activation == 'relu' else nn.LeakyReLU(0.2)\n",
        "        if use_bn:\n",
        "            self.instancenorm = nn.InstanceNorm2d(input_channels * 2)\n",
        "        self.use_bn = use_bn\n",
        "\n",
        "    def forward(self, x):\n",
        "        '''\n",
        "        Function for completing a forward pass of ContractingBlock: \n",
        "        Given an image tensor, completes a contracting block and returns the transformed tensor.\n",
        "        Parameters:\n",
        "            x: image tensor of shape (batch size, channels, height, width)\n",
        "        '''\n",
        "        x = self.conv1(x)\n",
        "        if self.use_bn:\n",
        "            x = self.instancenorm(x)\n",
        "        x = self.activation(x)\n",
        "        return x\n",
        "\n",
        "class ExpandingBlock(nn.Module):\n",
        "    '''\n",
        "    ExpandingBlock Class:\n",
        "    Performs a convolutional transpose operation in order to upsample, \n",
        "        with an optional instance norm\n",
        "    Values:\n",
        "        input_channels: the number of channels to expect from a given input\n",
        "    '''\n",
        "    def __init__(self, input_channels, use_bn=True):\n",
        "        super(ExpandingBlock, self).__init__()\n",
        "        self.conv1 = nn.ConvTranspose2d(input_channels, input_channels // 2, kernel_size=3, stride=2, padding=1, output_padding=1)\n",
        "        if use_bn:\n",
        "            self.instancenorm = nn.InstanceNorm2d(input_channels // 2)\n",
        "        self.use_bn = use_bn\n",
        "        self.activation = nn.ReLU()\n",
        "\n",
        "    def forward(self, x):\n",
        "        '''\n",
        "        Function for completing a forward pass of ExpandingBlock: \n",
        "        Given an image tensor, completes an expanding block and returns the transformed tensor.\n",
        "        Parameters:\n",
        "            x: image tensor of shape (batch size, channels, height, width)\n",
        "            skip_con_x: the image tensor from the contracting path (from the opposing block of x)\n",
        "                    for the skip connection\n",
        "        '''\n",
        "        x = self.conv1(x)\n",
        "        if self.use_bn:\n",
        "            x = self.instancenorm(x)\n",
        "        x = self.activation(x)\n",
        "        return x\n",
        "\n"
      ],
      "execution_count": 14,
      "outputs": []
    },
    {
      "cell_type": "markdown",
      "metadata": {
        "id": "da6qOeyvP21O"
      },
      "source": [
        "## FeatureMapBlock Class"
      ]
    },
    {
      "cell_type": "code",
      "metadata": {
        "id": "U1bj5tk3P11g"
      },
      "source": [
        "class FeatureMapBlock(nn.Module):\n",
        "    '''\n",
        "    FeatureMapBlock Class\n",
        "    The final layer of a Generator - \n",
        "    maps each the output to the desired number of output channels\n",
        "    Values:\n",
        "        input_channels: the number of channels to expect from a given input\n",
        "        output_channels: the number of channels to expect for a given output\n",
        "    '''\n",
        "    def __init__(self, input_channels, output_channels):\n",
        "        super(FeatureMapBlock, self).__init__()\n",
        "        self.conv = nn.Conv2d(input_channels, output_channels, kernel_size=7, padding=3, padding_mode='reflect')\n",
        "\n",
        "    def forward(self, x):\n",
        "        '''\n",
        "        Function for completing a forward pass of FeatureMapBlock: \n",
        "        Given an image tensor, returns it mapped to the desired number of channels.\n",
        "        Parameters:\n",
        "            x: image tensor of shape (batch size, channels, height, width)\n",
        "        '''\n",
        "        x = self.conv(x)\n",
        "        return x"
      ],
      "execution_count": 15,
      "outputs": []
    },
    {
      "cell_type": "markdown",
      "metadata": {
        "id": "yV-JBJ_AQBxN"
      },
      "source": [
        "## Generator Class"
      ]
    },
    {
      "cell_type": "code",
      "metadata": {
        "id": "f5lZoRsqGzZq"
      },
      "source": [
        "class Generator(nn.Module):\n",
        "    '''\n",
        "    Generator Class\n",
        "    A series of 2 contracting blocks, 9 residual blocks, and 2 expanding blocks to \n",
        "    transform an input image into an image from the other class, with an upfeature\n",
        "    layer at the start and a downfeature layer at the end.\n",
        "    Values:\n",
        "        input_channels: the number of channels to expect from a given input\n",
        "        output_channels: the number of channels to expect for a given output\n",
        "    '''\n",
        "    def __init__(self, input_channels, output_channels, hidden_channels=64):\n",
        "        super(Generator, self).__init__()\n",
        "        self.upfeature = FeatureMapBlock(input_channels, hidden_channels)\n",
        "        self.contract1 = ContractingBlock(hidden_channels)\n",
        "        self.contract2 = ContractingBlock(hidden_channels * 2)\n",
        "        res_mult = 4\n",
        "        self.res0 = ResidualBlock(hidden_channels * res_mult)\n",
        "        self.res1 = ResidualBlock(hidden_channels * res_mult)\n",
        "        self.res2 = ResidualBlock(hidden_channels * res_mult)\n",
        "        self.res3 = ResidualBlock(hidden_channels * res_mult)\n",
        "        self.res4 = ResidualBlock(hidden_channels * res_mult)\n",
        "        self.res5 = ResidualBlock(hidden_channels * res_mult)\n",
        "        self.res6 = ResidualBlock(hidden_channels * res_mult)\n",
        "        self.res7 = ResidualBlock(hidden_channels * res_mult)\n",
        "        self.res8 = ResidualBlock(hidden_channels * res_mult)\n",
        "        self.expand2 = ExpandingBlock(hidden_channels * 4)\n",
        "        self.expand3 = ExpandingBlock(hidden_channels * 2)\n",
        "        self.downfeature = FeatureMapBlock(hidden_channels, output_channels)\n",
        "        self.tanh = torch.nn.Tanh()\n",
        "\n",
        "    def forward(self, x):\n",
        "        '''\n",
        "        Function for completing a forward pass of Generator: \n",
        "        Given an image tensor, passes it through the U-Net with residual blocks\n",
        "        and returns the output.\n",
        "        Parameters:\n",
        "            x: image tensor of shape (batch size, channels, height, width)\n",
        "        '''\n",
        "        x0 = self.upfeature(x)\n",
        "        x1 = self.contract1(x0)\n",
        "        x2 = self.contract2(x1)\n",
        "        x3 = self.res0(x2)\n",
        "        x4 = self.res1(x3)\n",
        "        x5 = self.res2(x4)\n",
        "        x6 = self.res3(x5)\n",
        "        x7 = self.res4(x6)\n",
        "        x8 = self.res5(x7)\n",
        "        x9 = self.res6(x8)\n",
        "        x10 = self.res7(x9)\n",
        "        x11 = self.res8(x10)\n",
        "        x12 = self.expand2(x11)\n",
        "        x13 = self.expand3(x12)\n",
        "        xn = self.downfeature(x13)\n",
        "        return self.tanh(xn)"
      ],
      "execution_count": 16,
      "outputs": []
    },
    {
      "cell_type": "markdown",
      "metadata": {
        "id": "_6594qNXQLbO"
      },
      "source": [
        "## Discriminator Class"
      ]
    },
    {
      "cell_type": "code",
      "metadata": {
        "id": "z4aozBysG1L9"
      },
      "source": [
        "class Discriminator(nn.Module):\n",
        "    '''\n",
        "    Discriminator Class\n",
        "    Structured like the contracting path of the U-Net, the discriminator will\n",
        "    output a matrix of values classifying corresponding portions of the image as real or fake. \n",
        "    Parameters:\n",
        "        input_channels: the number of image input channels\n",
        "        hidden_channels: the initial number of discriminator convolutional filters\n",
        "    '''\n",
        "    def __init__(self, input_channels, hidden_channels=64):\n",
        "        super(Discriminator, self).__init__()\n",
        "        self.upfeature = FeatureMapBlock(input_channels, hidden_channels)\n",
        "        self.contract1 = ContractingBlock(hidden_channels, use_bn=False, kernel_size=4, activation='lrelu')\n",
        "        self.contract2 = ContractingBlock(hidden_channels * 2, kernel_size=4, activation='lrelu')\n",
        "        self.contract3 = ContractingBlock(hidden_channels * 4, kernel_size=4, activation='lrelu')\n",
        "        self.final = nn.Conv2d(hidden_channels * 8, 1, kernel_size=1)\n",
        "\n",
        "    def forward(self, x):\n",
        "        x0 = self.upfeature(x)\n",
        "        x1 = self.contract1(x0)\n",
        "        x2 = self.contract2(x1)\n",
        "        x3 = self.contract3(x2)\n",
        "        xn = self.final(x3)\n",
        "        return xn"
      ],
      "execution_count": 17,
      "outputs": []
    },
    {
      "cell_type": "markdown",
      "metadata": {
        "id": "8G1jqtdXQ-uA"
      },
      "source": [
        "## Loss Functions"
      ]
    },
    {
      "cell_type": "markdown",
      "metadata": {
        "id": "0a98R8uHRIOR"
      },
      "source": [
        "### Get Discriminator Loss"
      ]
    },
    {
      "cell_type": "code",
      "metadata": {
        "id": "0V7PNE7cG88x"
      },
      "source": [
        "def get_disc_loss(real_X, fake_X, disc_X, adv_criterion):\n",
        "    '''\n",
        "    Return the loss of the discriminator given inputs.\n",
        "    Parameters:\n",
        "        real_X: the real images from pile X\n",
        "        fake_X: the generated images of class X\n",
        "        disc_X: the discriminator for class X; takes images and returns real/fake class X\n",
        "            prediction matrices\n",
        "        adv_criterion: the adversarial loss function; takes the discriminator \n",
        "            predictions and the target labels and returns a adversarial \n",
        "            loss (which you aim to minimize)\n",
        "    '''\n",
        "\n",
        "    fake_X.detach()\n",
        "    fake_pred = disc_X(fake_X)\n",
        "    fake_loss = adv_criterion(fake_pred, torch.zeros_like(fake_pred))\n",
        "    real_pred = disc_X(real_X)\n",
        "    real_loss = adv_criterion(real_pred, torch.ones_like(real_pred))\n",
        "    disc_loss = (fake_loss + real_loss) / 2.0\n",
        "\n",
        "    return disc_loss"
      ],
      "execution_count": 18,
      "outputs": []
    },
    {
      "cell_type": "markdown",
      "metadata": {
        "id": "B5MIeRIiRNkK"
      },
      "source": [
        "### Get Generator Adversarial Loss"
      ]
    },
    {
      "cell_type": "code",
      "metadata": {
        "id": "i5e5m3t5G-1_"
      },
      "source": [
        "def get_gen_adversarial_loss(real_X, disc_Y, gen_XY, adv_criterion):\n",
        "    '''\n",
        "    Return the adversarial loss of the generator given inputs\n",
        "    (and the generated images for testing purposes).\n",
        "    Parameters:\n",
        "        real_X: the real images from pile X\n",
        "        disc_Y: the discriminator for class Y; takes images and returns real/fake class Y\n",
        "            prediction matrices\n",
        "        gen_XY: the generator for class X to Y; takes images and returns the images \n",
        "            transformed to class Y\n",
        "        adv_criterion: the adversarial loss function; takes the discriminator \n",
        "                  predictions and the target labels and returns a adversarial \n",
        "                  loss (which you aim to minimize)\n",
        "    '''\n",
        "\n",
        "    fake_Y = gen_XY(real_X)\n",
        "    pred_Y = disc_Y(fake_Y)\n",
        "    adversarial_loss = adv_criterion(pred_Y, torch.ones_like(pred_Y))\n",
        "\n",
        "    return adversarial_loss, fake_Y"
      ],
      "execution_count": 19,
      "outputs": []
    },
    {
      "cell_type": "markdown",
      "metadata": {
        "id": "HdyfV3ubRSXW"
      },
      "source": [
        "### Get Identity Loss"
      ]
    },
    {
      "cell_type": "code",
      "metadata": {
        "id": "WO5saOOxHBmX"
      },
      "source": [
        "def get_identity_loss(real_X, gen_YX, identity_criterion):\n",
        "    '''\n",
        "    Return the identity loss of the generator given inputs\n",
        "    (and the generated images for testing purposes).\n",
        "    Parameters:\n",
        "        real_X: the real images from pile X\n",
        "        gen_YX: the generator for class Y to X; takes images and returns the images \n",
        "            transformed to class X\n",
        "        identity_criterion: the identity loss function; takes the real images from X and\n",
        "                        those images put through a Y->X generator and returns the identity \n",
        "                        loss (which you aim to minimize)\n",
        "    '''\n",
        "\n",
        "    identity_X = gen_YX(real_X)\n",
        "    identity_loss = identity_criterion(real_X, identity_X)\n",
        "\n",
        "    return identity_loss, identity_X"
      ],
      "execution_count": 20,
      "outputs": []
    },
    {
      "cell_type": "markdown",
      "metadata": {
        "id": "SaRmpHwZRUzp"
      },
      "source": [
        "### Get Cycle Consistency Loss"
      ]
    },
    {
      "cell_type": "code",
      "metadata": {
        "id": "mm_jPHM6HDet"
      },
      "source": [
        "def get_cycle_consistency_loss(real_X, fake_Y, gen_YX, cycle_criterion):\n",
        "    '''\n",
        "    Return the cycle consistency loss of the generator given inputs\n",
        "    (and the generated images for testing purposes).\n",
        "    Parameters:\n",
        "        real_X: the real images from pile X\n",
        "        fake_Y: the generated images of class Y\n",
        "        gen_YX: the generator for class Y to X; takes images and returns the images \n",
        "            transformed to class X\n",
        "        cycle_criterion: the cycle consistency loss function; takes the real images from X and\n",
        "                        those images put through a X->Y generator and then Y->X generator\n",
        "                        and returns the cycle consistency loss (which you aim to minimize)\n",
        "    '''\n",
        "\n",
        "    cycle_X = gen_YX(fake_Y)\n",
        "    cycle_loss = cycle_criterion(real_X, cycle_X)\n",
        "\n",
        "    return cycle_loss, cycle_X"
      ],
      "execution_count": 21,
      "outputs": []
    },
    {
      "cell_type": "markdown",
      "metadata": {
        "id": "T6t5c3DSRXSM"
      },
      "source": [
        "### Get Generator Loss"
      ]
    },
    {
      "cell_type": "code",
      "metadata": {
        "id": "RKomJzT-HFZn"
      },
      "source": [
        "def get_gen_loss(real_A, real_B, gen_AB, gen_BA, disc_A, disc_B, adv_criterion, identity_criterion, cycle_criterion, lambda_identity=0.1, lambda_cycle=10):\n",
        "    '''\n",
        "    Return the loss of the generator given inputs.\n",
        "    Parameters:\n",
        "        real_A: the real images from pile A\n",
        "        real_B: the real images from pile B\n",
        "        gen_AB: the generator for class A to B; takes images and returns the images \n",
        "            transformed to class B\n",
        "        gen_BA: the generator for class B to A; takes images and returns the images \n",
        "            transformed to class A\n",
        "        disc_A: the discriminator for class A; takes images and returns real/fake class A\n",
        "            prediction matrices\n",
        "        disc_B: the discriminator for class B; takes images and returns real/fake class B\n",
        "            prediction matrices\n",
        "        adv_criterion: the adversarial loss function; takes the discriminator \n",
        "            predictions and the true labels and returns a adversarial \n",
        "            loss (which you aim to minimize)\n",
        "        identity_criterion: the reconstruction loss function used for identity loss\n",
        "            and cycle consistency loss; takes two sets of images and returns\n",
        "            their pixel differences (which you aim to minimize)\n",
        "        cycle_criterion: the cycle consistency loss function; takes the real images from X and\n",
        "            those images put through a X->Y generator and then Y->X generator\n",
        "            and returns the cycle consistency loss (which you aim to minimize).\n",
        "            Note that in practice, cycle_criterion == identity_criterion == L1 loss\n",
        "        lambda_identity: the weight of the identity loss\n",
        "        lambda_cycle: the weight of the cycle-consistency loss\n",
        "    '''\n",
        "\n",
        "    # Adversarial Loss -- get_gen_adversarial_loss(real_X, disc_Y, gen_XY, adv_criterion)\n",
        "    adv_loss,fake_B = get_gen_adversarial_loss(real_A, disc_B, gen_AB, adv_criterion)\n",
        "    adv_loss_2,fake_A = get_gen_adversarial_loss(real_B, disc_A, gen_BA, adv_criterion)\n",
        "    \n",
        "    # Identity Loss -- get_identity_loss(real_X, gen_YX, identity_criterion)\n",
        "    ide_loss,identity_A = get_identity_loss(real_A, gen_BA, identity_criterion)\n",
        "    ide_loss_2,identity_B = get_identity_loss(real_B, gen_AB, identity_criterion)\n",
        "\n",
        "    # Cycle-consistency Loss -- get_cycle_consistency_loss(real_X, fake_Y, gen_YX, cycle_criterion)\n",
        "    cyc_loss,cycle_A = get_cycle_consistency_loss(real_A, fake_B, gen_BA, cycle_criterion)\n",
        "    cyc_loss_2,cycle_B = get_cycle_consistency_loss(real_B, fake_A, gen_AB, cycle_criterion)\n",
        "    # Total loss\n",
        "    \n",
        "    gen_loss = adv_loss + adv_loss_2 + lambda_identity * (ide_loss + ide_loss_2) +  lambda_cycle * (cyc_loss + cyc_loss_2)\n",
        "\n",
        "    return gen_loss, fake_A, fake_B"
      ],
      "execution_count": 22,
      "outputs": []
    },
    {
      "cell_type": "markdown",
      "metadata": {
        "id": "5_Ky9cj9Eh4w"
      },
      "source": [
        "### Criterion"
      ]
    },
    {
      "cell_type": "code",
      "metadata": {
        "id": "7sL3ztgZ_2E9"
      },
      "source": [
        "## Criterion for adversarial loss and reconstruction loss\n",
        "adv_criterion = nn.MSELoss() \n",
        "recon_criterion = nn.L1Loss()"
      ],
      "execution_count": 23,
      "outputs": []
    },
    {
      "cell_type": "markdown",
      "metadata": {
        "id": "V_6TXYSVQO0w"
      },
      "source": [
        "# Training"
      ]
    },
    {
      "cell_type": "markdown",
      "metadata": {
        "id": "GbZUS0PDQjij"
      },
      "source": [
        "## Hyperparameters"
      ]
    },
    {
      "cell_type": "code",
      "metadata": {
        "id": "rUdOQhHcAFKy"
      },
      "source": [
        "# Default model to accept RGB images\n",
        "# B&W images will be broadcast to 3 dims\n",
        "dim_A = 3\n",
        "dim_B = 3"
      ],
      "execution_count": 24,
      "outputs": []
    },
    {
      "cell_type": "code",
      "metadata": {
        "id": "zZNu89bbFNc9"
      },
      "source": [
        "# Model Arch hyperparameters\n",
        "batch_size = 1\n",
        "lr = 0.0002\n",
        "load_shape = 128 # originally 286. Why?\n",
        "target_shape = 128 # originally 256\n",
        "\n",
        "# GPU Acceleration, use 'cpu' if no GPU is available\n",
        "device = 'cuda'"
      ],
      "execution_count": 25,
      "outputs": []
    },
    {
      "cell_type": "markdown",
      "metadata": {
        "id": "7pOkwUOAQ3Wr"
      },
      "source": [
        "## Define model and load weights"
      ]
    },
    {
      "cell_type": "code",
      "metadata": {
        "id": "zzPgXXuxJjiH"
      },
      "source": [
        "# File Management and model weights filename\n",
        "pretrained = True"
      ],
      "execution_count": 26,
      "outputs": []
    },
    {
      "cell_type": "code",
      "metadata": {
        "id": "kRRO0o2KG5uY",
        "colab": {
          "base_uri": "https://localhost:8080/"
        },
        "outputId": "29aa871e-d450-4ecb-8b18-7782360396b1"
      },
      "source": [
        "gen_AB = Generator(dim_A, dim_B).to(device)\n",
        "gen_BA = Generator(dim_B, dim_A).to(device)\n",
        "gen_opt = torch.optim.Adam(list(gen_AB.parameters()) + list(gen_BA.parameters()), lr=lr, betas=(0.5, 0.999))\n",
        "disc_A = Discriminator(dim_A).to(device)\n",
        "disc_A_opt = torch.optim.Adam(disc_A.parameters(), lr=lr, betas=(0.5, 0.999))\n",
        "disc_B = Discriminator(dim_B).to(device)\n",
        "disc_B_opt = torch.optim.Adam(disc_B.parameters(), lr=lr, betas=(0.5, 0.999))\n",
        "\n",
        "def weights_init(m):\n",
        "    if isinstance(m, nn.Conv2d) or isinstance(m, nn.ConvTranspose2d):\n",
        "        torch.nn.init.normal_(m.weight, 0.0, 0.02)\n",
        "    if isinstance(m, nn.BatchNorm2d):\n",
        "        torch.nn.init.normal_(m.weight, 0.0, 0.02)\n",
        "        torch.nn.init.constant_(m.bias, 0)\n",
        "\n",
        "# Feel free to change pretrained to False if you're training the model from scratch\n",
        "if pretrained:\n",
        "    model_dir = 'drive/MyDrive/GAN Research/CycleGAN/models/smile/'\n",
        "    # Get most recent file based on days of training\n",
        "    list_of_files = glob.glob(model_dir + \"*\") # * means all if need specific format then *.csv\n",
        "    latest_checkpoint = max(list_of_files, key=os.path.getctime)\n",
        "    print('loading {}'.format(latest_checkpoint))\n",
        "    model_name = os.path.splitext(os.path.basename(latest_checkpoint))[0]\n",
        "\n",
        "    pre_dict = torch.load(latest_checkpoint)\n",
        "    gen_AB.load_state_dict(pre_dict['gen_AB'])\n",
        "    gen_BA.load_state_dict(pre_dict['gen_BA'])\n",
        "    gen_opt.load_state_dict(pre_dict['gen_opt'])\n",
        "    disc_A.load_state_dict(pre_dict['disc_A'])\n",
        "    disc_A_opt.load_state_dict(pre_dict['disc_A_opt'])\n",
        "    disc_B.load_state_dict(pre_dict['disc_B'])\n",
        "    disc_B_opt.load_state_dict(pre_dict['disc_B_opt'])\n",
        "\n",
        "    print('latest_checkpoint loaded successfully!')\n",
        "\n",
        "else:\n",
        "    gen_AB = gen_AB.apply(weights_init)\n",
        "    gen_BA = gen_BA.apply(weights_init)\n",
        "    disc_A = disc_A.apply(weights_init)\n",
        "    disc_B = disc_B.apply(weights_init)\n",
        "\n",
        "    print('random weights initialized.')"
      ],
      "execution_count": 28,
      "outputs": [
        {
          "output_type": "stream",
          "text": [
            "loading drive/MyDrive/GAN Research/CycleGAN/models/smile/smile_80_25_30_15.pth\n",
            "latest_checkpoint loaded successfully!\n"
          ],
          "name": "stdout"
        }
      ]
    },
    {
      "cell_type": "markdown",
      "metadata": {
        "id": "oxTTauaxQqvu"
      },
      "source": [
        "## Load data"
      ]
    },
    {
      "cell_type": "code",
      "metadata": {
        "colab": {
          "base_uri": "https://localhost:8080/",
          "height": 162
        },
        "id": "gG01Z7EX4bl8",
        "outputId": "95faa81e-3a15-4514-f030-a39fe5bc0de1"
      },
      "source": [
        "assert False"
      ],
      "execution_count": 29,
      "outputs": [
        {
          "output_type": "error",
          "ename": "AssertionError",
          "evalue": "ignored",
          "traceback": [
            "\u001b[0;31m---------------------------------------------------------------------------\u001b[0m",
            "\u001b[0;31mAssertionError\u001b[0m                            Traceback (most recent call last)",
            "\u001b[0;32m<ipython-input-29-a871fdc9ebee>\u001b[0m in \u001b[0;36m<module>\u001b[0;34m()\u001b[0m\n\u001b[0;32m----> 1\u001b[0;31m \u001b[0;32massert\u001b[0m \u001b[0;32mFalse\u001b[0m\u001b[0;34m\u001b[0m\u001b[0;34m\u001b[0m\u001b[0m\n\u001b[0m",
            "\u001b[0;31mAssertionError\u001b[0m: "
          ]
        }
      ]
    },
    {
      "cell_type": "markdown",
      "metadata": {
        "id": "UzX0PADBqAMb"
      },
      "source": [
        "### Load CelebA Dataset"
      ]
    },
    {
      "cell_type": "code",
      "metadata": {
        "id": "r5sgsGK7lPUK"
      },
      "source": [
        "## Create two groups of image files, smiling and not smiling ##\n",
        "\n",
        "# Create dataframe to sort CelebA images\n",
        "img_dir_celeba = '/content/drive/MyDrive/GAN Research/CycleGAN/CycleGAN Images/CelebA/'\n",
        "attr_filename = 'list_attr_celeba.txt'\n",
        "\n",
        "df = pd.read_csv(img_dir_celeba + attr_filename, skiprows=1, delim_whitespace=True)\n",
        "df = df.reset_index()\n",
        "df.rename(columns={'index': 'filename'}, inplace=True)\n",
        "\n",
        "# Lists of smiling and non-smiling image filenames\n",
        "smiling_list = list(df[['filename']].loc[df['Smiling'] == 1]['filename'])\n",
        "not_smiling_list = list(df[['filename']].loc[df['Smiling'] == -1]['filename'])"
      ],
      "execution_count": 33,
      "outputs": []
    },
    {
      "cell_type": "code",
      "metadata": {
        "id": "PHRS0SBvj9lF",
        "colab": {
          "base_uri": "https://localhost:8080/"
        },
        "outputId": "fe33b3f4-96d3-4a1d-a405-963114c189d4"
      },
      "source": [
        "## Unzip images and move files into the correct category ##\n",
        "\n",
        "# Unzip images from drive and store in current directory\n",
        "!unzip -q /content/drive/MyDrive/GAN\\ Research/CycleGAN/CycleGAN\\ Images/CelebA/img_align_celeba.zip\n",
        "\n",
        "# Create training A and B subdirectories\n",
        "!mkdir img_align_celeba/trainA\n",
        "!mkdir img_align_celeba/trainB\n",
        "\n",
        "# Move images into correct subdirectory\n",
        "source_dir = 'img_align_celeba/'\n",
        "destination_dir = 'img_align_celeba/trainA'\n",
        "for img in smiling_list:\n",
        "  shutil.move(source_dir + img, destination_dir)\n",
        "\n",
        "source_dir = 'img_align_celeba/'\n",
        "destination_dir = 'img_align_celeba/trainB'\n",
        "for img in not_smiling_list:\n",
        "  shutil.move(source_dir + img, destination_dir)\n",
        "print('images loaded successfully!')"
      ],
      "execution_count": 35,
      "outputs": [
        {
          "output_type": "stream",
          "text": [
            "images loaded successfully!\n"
          ],
          "name": "stdout"
        }
      ]
    },
    {
      "cell_type": "code",
      "metadata": {
        "id": "0jWDA75CG4U6",
        "colab": {
          "base_uri": "https://localhost:8080/"
        },
        "outputId": "3bbbc0eb-f417-42d3-aece-226a0fafd0a1"
      },
      "source": [
        "## Load files into a Image Dataset object ##\n",
        "\n",
        "# Apply transforms to dataset to augment\n",
        "transform = transforms.Compose([\n",
        "    transforms.Resize(load_shape),\n",
        "    transforms.RandomCrop(target_shape),\n",
        "    transforms.RandomHorizontalFlip(),\n",
        "    transforms.ToTensor(),\n",
        "])\n",
        "\n",
        "img_dir = 'img_align_celeba'\n",
        "training_max_images = 2000\n",
        "dataset = ImageDataset(img_dir, transform=transform, max_size=training_max_images)\n",
        "\n",
        "print(\"Size of dataset: {} images\".format(len(dataset)))"
      ],
      "execution_count": 36,
      "outputs": [
        {
          "output_type": "stream",
          "text": [
            "Size of dataset: 2000 images\n"
          ],
          "name": "stdout"
        }
      ]
    },
    {
      "cell_type": "markdown",
      "metadata": {
        "id": "qxwj7GVLRbiU"
      },
      "source": [
        "## Train model"
      ]
    },
    {
      "cell_type": "code",
      "metadata": {
        "id": "4oyfI9a9G2x6"
      },
      "source": [
        "## Training session length and console output debugging ##\n",
        "\n",
        "# Training epochs\n",
        "n_epochs = 50\n",
        "\n",
        "# Visualizations\n",
        "display_step = 100\n",
        "\n",
        "# Save to Google Drive\n",
        "save_epoch = 5"
      ],
      "execution_count": 37,
      "outputs": []
    },
    {
      "cell_type": "markdown",
      "metadata": {
        "id": "LZUZob4q9JFJ"
      },
      "source": [
        "## Start training"
      ]
    },
    {
      "cell_type": "code",
      "metadata": {
        "id": "OQa9j32RHHTD"
      },
      "source": [
        "plt.rcParams[\"figure.figsize\"] = (10, 10)\n",
        "\n",
        "\n",
        "def train(save_model=False):\n",
        "    mean_generator_loss = 0\n",
        "    mean_discriminator_loss = 0\n",
        "    dataloader = DataLoader(dataset, batch_size=batch_size, shuffle=True)\n",
        "    cur_step = 0\n",
        "\n",
        "    for epoch in range(n_epochs):\n",
        "        # Dataloader returns the batches\n",
        "        # for image, _ in tqdm(dataloader):\n",
        "        for real_A, real_B in tqdm(dataloader):\n",
        "            # image_width = image.shape[3]\n",
        "            real_A = nn.functional.interpolate(real_A, size=target_shape)\n",
        "            real_B = nn.functional.interpolate(real_B, size=target_shape)\n",
        "            cur_batch_size = len(real_A)\n",
        "            real_A = real_A.to(device)\n",
        "            real_B = real_B.to(device)\n",
        "\n",
        "            ### Update discriminator A ###\n",
        "            disc_A_opt.zero_grad() # Zero out the gradient before backpropagation\n",
        "            with torch.no_grad():\n",
        "                fake_A = gen_BA(real_B)\n",
        "            disc_A_loss = get_disc_loss(real_A, fake_A, disc_A, adv_criterion)\n",
        "            disc_A_loss.backward(retain_graph=True) # Update gradients\n",
        "            disc_A_opt.step() # Update optimizer\n",
        "\n",
        "            ### Update discriminator B ###\n",
        "            disc_B_opt.zero_grad() # Zero out the gradient before backpropagation\n",
        "            with torch.no_grad():\n",
        "                fake_B = gen_AB(real_A)\n",
        "            disc_B_loss = get_disc_loss(real_B, fake_B, disc_B, adv_criterion)\n",
        "            disc_B_loss.backward(retain_graph=True) # Update gradients\n",
        "            disc_B_opt.step() # Update optimizer\n",
        "\n",
        "            ### Update generator ###\n",
        "            gen_opt.zero_grad()\n",
        "            gen_loss, fake_A, fake_B = get_gen_loss(\n",
        "                real_A, real_B, gen_AB, gen_BA, disc_A, disc_B, adv_criterion, recon_criterion, recon_criterion\n",
        "            )\n",
        "            gen_loss.backward() # Update gradients\n",
        "            gen_opt.step() # Update optimizer\n",
        "\n",
        "            # Keep track of the average discriminator loss\n",
        "            mean_discriminator_loss += disc_A_loss.item() / display_step\n",
        "            # Keep track of the average generator loss\n",
        "            mean_generator_loss += gen_loss.item() / display_step\n",
        "\n",
        "            ### Visualization code ###\n",
        "            if cur_step % display_step == 0:\n",
        "                print(f\"Epoch {epoch}: Step {cur_step}: Generator (U-Net) loss: {mean_generator_loss}, Discriminator loss: {mean_discriminator_loss}\")\n",
        "                show_tensor_images(torch.cat([real_A, real_B]), size=(dim_A, target_shape, target_shape))\n",
        "                show_tensor_images(torch.cat([fake_B, fake_A]), size=(dim_B, target_shape, target_shape))\n",
        "                mean_generator_loss = 0\n",
        "                mean_discriminator_loss = 0\n",
        "                # You can change save_model to True if you'd like to save the model\n",
        "                if save_model:\n",
        "                    torch.save({\n",
        "                        'gen_AB': gen_AB.state_dict(),\n",
        "                        'gen_BA': gen_BA.state_dict(),\n",
        "                        'gen_opt': gen_opt.state_dict(),\n",
        "                        'disc_A': disc_A.state_dict(),\n",
        "                        'disc_A_opt': disc_A_opt.state_dict(),\n",
        "                        'disc_B': disc_B.state_dict(),\n",
        "                        'disc_B_opt': disc_B_opt.state_dict()\n",
        "                    }, f\"cycleGAN_{cur_step}.pth\")\n",
        "\n",
        "            ### Save to Google Drive ###\n",
        "            if epoch % save_epoch == 0:\n",
        "              filename =  model_name + '_' + str(epoch)\n",
        "              save_model_to_drive(filename, model_dir)\n",
        "\n",
        "            cur_step += 1\n",
        "\n",
        "train(save_model=True)"
      ],
      "execution_count": null,
      "outputs": []
    },
    {
      "cell_type": "markdown",
      "metadata": {
        "id": "tYz_RetKVpKF"
      },
      "source": [
        "## Save final model weights"
      ]
    },
    {
      "cell_type": "code",
      "metadata": {
        "id": "ctKeyLkHAwPz"
      },
      "source": [
        "next_filename = int(model_name[-1]) + 1\n",
        "save_model_to_drive(next_filename, model_dir)"
      ],
      "execution_count": null,
      "outputs": []
    },
    {
      "cell_type": "code",
      "metadata": {
        "id": "F-Ms5JN0Babj"
      },
      "source": [
        "save_filename = '/content/drive/MyDrive/CycleGAN/models/' + 'smile_final'\n",
        "torch.save({\n",
        "  'gen_AB': gen_AB.state_dict(),\n",
        "  'gen_BA': gen_BA.state_dict(),\n",
        "  'gen_opt': gen_opt.state_dict(),\n",
        "  'disc_A': disc_A.state_dict(),\n",
        "  'disc_A_opt': disc_A_opt.state_dict(),\n",
        "  'disc_B': disc_B.state_dict(),\n",
        "  'disc_B_opt': disc_B_opt.state_dict()\n",
        "}, f\"{save_filename}.pth\")"
      ],
      "execution_count": null,
      "outputs": []
    },
    {
      "cell_type": "markdown",
      "metadata": {
        "id": "bVm2Z5Q5TCwQ"
      },
      "source": [
        "# Testing"
      ]
    }
  ]
}